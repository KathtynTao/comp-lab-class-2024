{
 "cells": [
  {
   "cell_type": "code",
   "execution_count": 51,
   "id": "8359757f-15bd-42b7-a020-765a8df9fb40",
   "metadata": {},
   "outputs": [
    {
     "data": {
      "text/html": [
       "<div>\n",
       "<style scoped>\n",
       "    .dataframe tbody tr th:only-of-type {\n",
       "        vertical-align: middle;\n",
       "    }\n",
       "\n",
       "    .dataframe tbody tr th {\n",
       "        vertical-align: top;\n",
       "    }\n",
       "\n",
       "    .dataframe thead th {\n",
       "        text-align: right;\n",
       "    }\n",
       "</style>\n",
       "<table border=\"1\" class=\"dataframe\">\n",
       "  <thead>\n",
       "    <tr style=\"text-align: right;\">\n",
       "      <th></th>\n",
       "      <th>type</th>\n",
       "      <th>smiles</th>\n",
       "      <th>n_atoms</th>\n",
       "    </tr>\n",
       "  </thead>\n",
       "  <tbody>\n",
       "    <tr>\n",
       "      <th>0</th>\n",
       "      <td>Ethene</td>\n",
       "      <td>C=C</td>\n",
       "      <td>2</td>\n",
       "    </tr>\n",
       "    <tr>\n",
       "      <th>1</th>\n",
       "      <td>benzene</td>\n",
       "      <td>C1=CC=CC=C1</td>\n",
       "      <td>6</td>\n",
       "    </tr>\n",
       "    <tr>\n",
       "      <th>2</th>\n",
       "      <td>Ethanol</td>\n",
       "      <td>CCO</td>\n",
       "      <td>3</td>\n",
       "    </tr>\n",
       "    <tr>\n",
       "      <th>3</th>\n",
       "      <td>formaldehyde</td>\n",
       "      <td>C=O</td>\n",
       "      <td>2</td>\n",
       "    </tr>\n",
       "    <tr>\n",
       "      <th>4</th>\n",
       "      <td>carbone dioxide</td>\n",
       "      <td>O=C=O</td>\n",
       "      <td>3</td>\n",
       "    </tr>\n",
       "  </tbody>\n",
       "</table>\n",
       "</div>"
      ],
      "text/plain": [
       "              type       smiles  n_atoms\n",
       "0           Ethene          C=C        2\n",
       "1          benzene  C1=CC=CC=C1        6\n",
       "2          Ethanol          CCO        3\n",
       "3     formaldehyde          C=O        2\n",
       "4  carbone dioxide        O=C=O        3"
      ]
     },
     "execution_count": 51,
     "metadata": {},
     "output_type": "execute_result"
    }
   ],
   "source": [
    "from rdkit import Chem\n",
    "import pandas as pd\n",
    "\n",
    "# Read the CSV file containing SMILES strings\n",
    "df_smiles = pd.read_csv('smiles.csv')\n",
    "\n",
    "# Function to convert SMILES string to RDKit molecule\n",
    "def smiles_to_mol(smiles):\n",
    "    mol = Chem.MolFromSmiles(smiles)\n",
    "    return mol\n",
    "\n",
    "# Add the 'ROMol' column by applying the smiles_to_mol function\n",
    "df_smiles['ROMol'] = df_smiles['smiles'].apply(smiles_to_mol)\n",
    "\n",
    "# Add the 'n_atoms' column to store the number of atoms in each molecule\n",
    "df_smiles['n_atoms'] = df_smiles['ROMol'].apply(lambda mol: mol.GetNumAtoms() if mol else None)\n",
    "\n",
    "# Display the DataFrame\n",
    "df_smiles[['type', 'smiles', 'n_atoms']]\n"
   ]
  },
  {
   "cell_type": "code",
   "execution_count": 52,
   "id": "06bea3dd-0769-4ad7-b669-ef5519eba4d4",
   "metadata": {},
   "outputs": [],
   "source": [
    "import os\n",
    "import sys\n",
    "import pandas as pd\n",
    "import numpy as np\n",
    "from rdkit import Chem\n",
    "from rdkit.Chem.Draw import IPythonConsole\n",
    "sys.path.append('/Users/iwatobipen/develop/chemoenv/psikit/psikit/')"
   ]
  },
  {
   "cell_type": "code",
   "execution_count": 53,
   "id": "85d39f63-696c-4845-8abf-00385662fc98",
   "metadata": {},
   "outputs": [],
   "source": [
    "from psikit import Psikit"
   ]
  },
  {
   "cell_type": "code",
   "execution_count": 54,
   "id": "06ac2743-29ac-4afa-8b97-ae539ad8a2a8",
   "metadata": {},
   "outputs": [],
   "source": [
    "pk = Psikit(debug=True,threads=1,memory=12)"
   ]
  },
  {
   "cell_type": "code",
   "execution_count": 57,
   "id": "70502767-8f97-4d24-ba6a-6afceceb4a08",
   "metadata": {},
   "outputs": [
    {
     "name": "stdout",
     "output_type": "stream",
     "text": [
      "              type       smiles\n",
      "0           Ethene          C=C\n",
      "1          benzene  C1=CC=CC=C1\n",
      "2          Ethanol          CCO\n",
      "3     formaldehyde          C=O\n",
      "4  carbone dioxide        O=C=O\n",
      "              type       smiles  \\\n",
      "0           Ethene          C=C   \n",
      "1          benzene  C1=CC=CC=C1   \n",
      "2          Ethanol          CCO   \n",
      "3     formaldehyde          C=O   \n",
      "4  carbone dioxide        O=C=O   \n",
      "\n",
      "                                              ROMol  n_atoms  \\\n",
      "0  <rdkit.Chem.rdchem.Mol object at 0x14f84e2a5970>        2   \n",
      "1  <rdkit.Chem.rdchem.Mol object at 0x14f84e2a5820>        6   \n",
      "2  <rdkit.Chem.rdchem.Mol object at 0x14f84e2a5d60>        3   \n",
      "3  <rdkit.Chem.rdchem.Mol object at 0x14f84e2a56d0>        2   \n",
      "4  <rdkit.Chem.rdchem.Mol object at 0x14f84e2a5740>        3   \n",
      "\n",
      "                                             3D_mol  \n",
      "0  <rdkit.Chem.rdchem.Mol object at 0x14f84e2a5dd0>  \n",
      "1  <rdkit.Chem.rdchem.Mol object at 0x14f84e2a5f20>  \n",
      "2  <rdkit.Chem.rdchem.Mol object at 0x14f84e2a57b0>  \n",
      "3  <rdkit.Chem.rdchem.Mol object at 0x14f84e2a5e40>  \n",
      "4  <rdkit.Chem.rdchem.Mol object at 0x14f84e2a7a50>  \n"
     ]
    }
   ],
   "source": [
    "# 1. Import Required Libraries\n",
    "import pandas as pd\n",
    "from rdkit import Chem\n",
    "from rdkit.Chem import AllChem\n",
    "import psi4\n",
    "# 2. Read the SMILES data from your existing 'smiles.csv' file\n",
    "smiles_df = pd.read_csv(\"smiles.csv\")\n",
    "# Check the first few rows of the dataframe to ensure it's loaded correctly\n",
    "print(smiles_df.head())\n",
    "# 3. Convert SMILES to RDKit Molecules and Compute Atom Counts\n",
    "def add_chemical_info(smiles):\n",
    "    mol = Chem.MolFromSmiles(smiles)\n",
    "    if mol is None:\n",
    "        return None, None\n",
    "    n_atoms = mol.GetNumAtoms()\n",
    "    return mol, n_atoms\n",
    "smiles_df['ROMol'], smiles_df['n_atoms'] = zip(*smiles_df['smiles'].apply(add_chemical_info))\n",
    "# 4. Generate 3D Coordinates for RDKit Molecules (If Not Already Present)\n",
    "def generate_3d_coordinates(mol):\n",
    "    if mol is None:  # Skip invalid molecules\n",
    "        return None\n",
    "    try:\n",
    "        mol = Chem.AddHs(mol)  # Add hydrogens first (required for 3D generation)\n",
    "        success = AllChem.EmbedMolecule(mol, randomSeed=42)  # Generate 3D coordinates\n",
    "        if success != 0:\n",
    "            print(f\"Warning: 3D generation failed for {Chem.MolToSmiles(mol)}\")\n",
    "            return None\n",
    "        AllChem.UFFOptimizeMolecule(mol)  # Optimize geometry using UFF (Universal Force Field)\n",
    "        return mol\n",
    "    except Exception as e:\n",
    "        print(f\"Error generating 3D coordinates for molecule: {e}\")\n",
    "        return None\n",
    "# Apply 3D coordinate generation to all molecules\n",
    "smiles_df['3D_mol'] = smiles_df['ROMol'].apply(generate_3d_coordinates)\n",
    "# 5. Check the DataFrame with the newly added 'ROMol', 'n_atoms', and '3D_mol' columns\n",
    "print(smiles_df.head())\n",
    "# 6. Convert RDKit Molecule to XYZ Format\n",
    "def mol_to_xyz(mol):\n",
    "    if mol is None:\n",
    "        return None\n",
    "    try:\n",
    "        mol_xyz = Chem.MolToXYZBlock(mol)  # Convert to XYZ format\n",
    "        return mol_xyz\n",
    "    except Exception as e:\n",
    "        print(f\"Error converting RDKit molecule to XYZ: {e}\")\n",
    "        return None\n",
    "# Convert molecules to XYZ format\n",
    "smiles_df['xyz'] = smiles_df['3D_mol'].apply(mol_to_xyz)\n",
    "# 7. Set Up Psi4 for Energy Optimization\n",
    "def compute_energy(mol_xyz):\n",
    "    if mol_xyz is None:\n",
    "        return None\n",
    "    try:\n",
    "        # Use the XYZ format with Psi4\n",
    "        psi4.geometry(mol_xyz)  # Define the molecule for Psi4\n",
    "        energy = psi4.energy('scf/6-31G(d)')  # Perform energy calculation (single-point)\n",
    "        return energy\n",
    "    except Exception as e:\n",
    "        print(f\"Error calculating energy: {e}\")\n",
    "        return None\n",
    "# 8. Perform Energy Calculations and Add to DataFrame\n",
    "# We will now add the energy values as a new column to the DataFrame.\n",
    "smiles_df['energy'] = smiles_df['xyz'].apply(compute_energy)"
   ]
  },
  {
   "cell_type": "code",
   "execution_count": 58,
   "id": "6ed0fb7f-a342-432a-b677-de9277db63cf",
   "metadata": {},
   "outputs": [
    {
     "name": "stdout",
     "output_type": "stream",
     "text": [
      "        smiles  n_atoms      energy\n",
      "0          C=C        2  -78.030622\n",
      "1  C1=CC=CC=C1        6 -230.701592\n",
      "2          CCO        3 -154.070191\n",
      "3          C=O        2 -113.863627\n",
      "4        O=C=O        3 -187.597977\n"
     ]
    }
   ],
   "source": [
    "# 9. Display the DataFrame with Molecules and Their Energies\n",
    "print(smiles_df[['smiles', 'n_atoms', 'energy']])"
   ]
  },
  {
   "cell_type": "code",
   "execution_count": null,
   "id": "f1f114e6-9e50-49ec-a80a-6046b7473de8",
   "metadata": {},
   "outputs": [],
   "source": []
  }
 ],
 "metadata": {
  "kernelspec": {
   "display_name": "lab_env_2024",
   "language": "python",
   "name": "lab_env_2024"
  },
  "language_info": {
   "codemirror_mode": {
    "name": "ipython",
    "version": 3
   },
   "file_extension": ".py",
   "mimetype": "text/x-python",
   "name": "python",
   "nbconvert_exporter": "python",
   "pygments_lexer": "ipython3",
   "version": "3.9.12"
  }
 },
 "nbformat": 4,
 "nbformat_minor": 5
}
