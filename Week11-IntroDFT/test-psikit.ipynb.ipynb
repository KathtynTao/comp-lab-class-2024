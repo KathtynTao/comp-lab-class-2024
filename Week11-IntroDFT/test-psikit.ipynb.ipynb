{
 "cells": [
  {
   "cell_type": "code",
   "execution_count": 4,
   "id": "60523fd9-c161-406b-b9e7-2b4bc5a5b970",
   "metadata": {},
   "outputs": [
    {
     "name": "stdout",
     "output_type": "stream",
     "text": [
      "Collecting package metadata (current_repodata.json): done\n",
      "Solving environment: done\n",
      "\n",
      "## Package Plan ##\n",
      "\n",
      "  environment location: /ext3/miniconda3\n",
      "\n",
      "  added / updated specs:\n",
      "    - psi4\n",
      "\n",
      "\n",
      "The following packages will be downloaded:\n",
      "\n",
      "    package                    |            build\n",
      "    ---------------------------|-----------------\n",
      "    ca-certificates-2024.9.24  |       h06a4308_0         130 KB\n",
      "    certifi-2024.8.30          |   py39h06a4308_0         162 KB\n",
      "    openssl-1.1.1w             |       h7f8727e_0         3.7 MB\n",
      "    ------------------------------------------------------------\n",
      "                                           Total:         4.0 MB\n",
      "\n",
      "The following packages will be UPDATED:\n",
      "\n",
      "  ca-certificates    conda-forge::ca-certificates-2022.12.~ --> pkgs/main::ca-certificates-2024.9.24-h06a4308_0 \n",
      "  certifi            conda-forge/noarch::certifi-2022.12.7~ --> pkgs/main/linux-64::certifi-2024.8.30-py39h06a4308_0 \n",
      "  openssl            conda-forge::openssl-1.1.1s-h0b41bf4_1 --> pkgs/main::openssl-1.1.1w-h7f8727e_0 \n",
      "\n",
      "The following packages will be SUPERSEDED by a higher-priority channel:\n",
      "\n",
      "  psi4               psi4/label/dev::psi4-1.7a1.dev44+2792~ --> psi4::psi4-1.6.1+5b9f6e3-py39h1bd450f_0 \n",
      "\n",
      "\n",
      "\n",
      "Downloading and Extracting Packages\n",
      "ca-certificates-2024 | 130 KB    |                                       |   0% \n",
      "certifi-2024.8.30    | 162 KB    |                                       |   0% \u001b[A\n",
      "\n",
      "openssl-1.1.1w       | 3.7 MB    |                                       |   0% \u001b[A\u001b[A\n",
      "\n",
      "openssl-1.1.1w       | 3.7 MB    | 1                                     |   0% \u001b[A\u001b[A\n",
      "ca-certificates-2024 | 130 KB    | ##################################### | 100% \u001b[A\n",
      "certifi-2024.8.30    | 162 KB    | ##################################### | 100% \u001b[A\n",
      "certifi-2024.8.30    | 162 KB    | ##################################### | 100% \u001b[A\n",
      "\n",
      "openssl-1.1.1w       | 3.7 MB    | ##################################### | 100% \u001b[A\u001b[A\n",
      "\n",
      "                                                                                \u001b[A\u001b[A\n",
      "                                                                                \u001b[A\n",
      "\n",
      "                                                                                \u001b[A\u001b[A\n",
      "Preparing transaction: done\n",
      "Verifying transaction: failed\n",
      "\n",
      "EnvironmentNotWritableError: The current user does not have write permissions to the target environment.\n",
      "  environment location: /ext3/miniconda3\n",
      "  uid: 4305602\n",
      "  gid: 4305602\n",
      "\n",
      "\n",
      "Collecting package metadata (current_repodata.json): done\n",
      "Solving environment: done\n",
      "\n",
      "## Package Plan ##\n",
      "\n",
      "  environment location: /ext3/miniconda3\n",
      "\n",
      "  added / updated specs:\n",
      "    - rdkit\n",
      "\n",
      "\n",
      "The following packages will be UPDATED:\n",
      "\n",
      "  ca-certificates    conda-forge::ca-certificates-2022.12.~ --> pkgs/main::ca-certificates-2024.9.24-h06a4308_0 \n",
      "  certifi            conda-forge/noarch::certifi-2022.12.7~ --> pkgs/main/linux-64::certifi-2024.8.30-py39h06a4308_0 \n",
      "  openssl            conda-forge::openssl-1.1.1s-h0b41bf4_1 --> pkgs/main::openssl-1.1.1w-h7f8727e_0 \n",
      "\n",
      "\n",
      "\n",
      "Downloading and Extracting Packages\n",
      "\n",
      "Preparing transaction: done\n",
      "Verifying transaction: failed\n",
      "\n",
      "EnvironmentNotWritableError: The current user does not have write permissions to the target environment.\n",
      "  environment location: /ext3/miniconda3\n",
      "  uid: 4305602\n",
      "  gid: 4305602\n",
      "\n",
      "\n",
      "Collecting package metadata (current_repodata.json): done\n",
      "Solving environment: done\n",
      "\n",
      "\n",
      "==> WARNING: A newer version of conda exists. <==\n",
      "  current version: 22.11.1\n",
      "  latest version: 24.9.2\n",
      "\n",
      "Please update conda by running\n",
      "\n",
      "    $ conda update -n base -c conda-forge conda\n",
      "\n",
      "Or to minimize the number of packages updated during conda update use\n",
      "\n",
      "     conda install conda=24.9.2\n",
      "\n",
      "\n",
      "\n",
      "## Package Plan ##\n",
      "\n",
      "  environment location: /ext3/miniconda3\n",
      "\n",
      "  added / updated specs:\n",
      "    - debtcollector\n",
      "\n",
      "\n",
      "The following packages will be downloaded:\n",
      "\n",
      "    package                    |            build\n",
      "    ---------------------------|-----------------\n",
      "    ca-certificates-2024.8.30  |       hbcca054_0         155 KB  conda-forge\n",
      "    certifi-2024.8.30          |     pyhd8ed1ab_0         160 KB  conda-forge\n",
      "    debtcollector-3.0.0        |     pyhd8ed1ab_0          22 KB  conda-forge\n",
      "    openssl-1.1.1w             |       hd590300_0         1.9 MB  conda-forge\n",
      "    ------------------------------------------------------------\n",
      "                                           Total:         2.2 MB\n",
      "\n",
      "The following packages will be UPDATED:\n",
      "\n",
      "  ca-certificates                      2022.12.7-ha878542_0 --> 2024.8.30-hbcca054_0 \n",
      "  certifi                            2022.12.7-pyhd8ed1ab_0 --> 2024.8.30-pyhd8ed1ab_0 \n",
      "  debtcollector                          2.5.0-pyhd8ed1ab_0 --> 3.0.0-pyhd8ed1ab_0 \n",
      "  openssl                                 1.1.1s-h0b41bf4_1 --> 1.1.1w-hd590300_0 \n",
      "\n",
      "\n",
      "\n",
      "Downloading and Extracting Packages\n",
      "ca-certificates-2024 | 155 KB    |                                       |   0% \n",
      "certifi-2024.8.30    | 160 KB    |                                       |   0% \u001b[A\n",
      "\n",
      "debtcollector-3.0.0  | 22 KB     |                                       |   0% \u001b[A\u001b[A\n",
      "\n",
      "\n",
      "openssl-1.1.1w       | 1.9 MB    |                                       |   0% \u001b[A\u001b[A\u001b[A\n",
      "certifi-2024.8.30    | 160 KB    | ###7                                  |  10% \u001b[A\n",
      "\n",
      "\n",
      "openssl-1.1.1w       | 1.9 MB    | 3                                     |   1% \u001b[A\u001b[A\u001b[A\n",
      "\n",
      "debtcollector-3.0.0  | 22 KB     | ##################################### | 100% \u001b[A\u001b[A\n",
      "\n",
      "ca-certificates-2024 | 155 KB    | ##################################### | 100% \u001b[A\u001b[A\n",
      "certifi-2024.8.30    | 160 KB    | ##################################### | 100% \u001b[A\n",
      "certifi-2024.8.30    | 160 KB    | ##################################### | 100% \u001b[A\n",
      "\n",
      "\n",
      "openssl-1.1.1w       | 1.9 MB    | ##################################### | 100% \u001b[A\u001b[A\u001b[A\n",
      "\n",
      "\n",
      "                                                                                \u001b[A\u001b[A\u001b[A\n",
      "                                                                                \u001b[A\n",
      "\n",
      "                                                                                \u001b[A\u001b[A\n",
      "\n",
      "\n",
      "                                                                                \u001b[A\u001b[A\u001b[A\n",
      "Preparing transaction: done\n",
      "Verifying transaction: failed\n",
      "\n",
      "EnvironmentNotWritableError: The current user does not have write permissions to the target environment.\n",
      "  environment location: /ext3/miniconda3\n",
      "  uid: 4305602\n",
      "  gid: 4305602\n",
      "\n",
      "\n"
     ]
    }
   ],
   "source": [
    "!conda install -c psi4 psi4 -y\n",
    "!conda install -c rdkit rdkit -y\n",
    "!conda install -c conda-forge debtcollector -y\n"
   ]
  },
  {
   "cell_type": "code",
   "execution_count": 5,
   "id": "934fe500-5f0c-4607-8f33-80043a06892c",
   "metadata": {},
   "outputs": [
    {
     "ename": "SyntaxError",
     "evalue": "invalid syntax (1294725552.py, line 1)",
     "output_type": "error",
     "traceback": [
      "\u001b[0;36m  Cell \u001b[0;32mIn [5], line 1\u001b[0;36m\u001b[0m\n\u001b[0;31m    git clone https://github.com/cdsgroup/resp.git\u001b[0m\n\u001b[0m        ^\u001b[0m\n\u001b[0;31mSyntaxError\u001b[0m\u001b[0;31m:\u001b[0m invalid syntax\n"
     ]
    }
   ],
   "source": [
    "git clone https://github.com/cdsgroup/resp.git\n",
    "cd resp\n",
    "pip install ."
   ]
  },
  {
   "cell_type": "code",
   "execution_count": null,
   "id": "f095ec4f-8916-40de-91dd-4dc2758b479a",
   "metadata": {},
   "outputs": [],
   "source": [
    "conda install -c iwatobipen psikit"
   ]
  },
  {
   "cell_type": "code",
   "execution_count": null,
   "id": "eb7fb2d2-5913-428e-a3e4-f9fcc602302c",
   "metadata": {},
   "outputs": [],
   "source": [
    "pip install psikit"
   ]
  },
  {
   "cell_type": "code",
   "execution_count": 6,
   "id": "c84707dc-4ff7-4ca8-b9a5-47e599134e4b",
   "metadata": {},
   "outputs": [
    {
     "name": "stdout",
     "output_type": "stream",
     "text": [
      "Defaulting to user installation because normal site-packages is not writeable\n",
      "Collecting git+https://github.com/Mishima-syk/psikit\n",
      "  Cloning https://github.com/Mishima-syk/psikit to /state/partition1/job-53537561/pip-req-build-sxpo8hnv\n",
      "  Running command git clone --filter=blob:none --quiet https://github.com/Mishima-syk/psikit /state/partition1/job-53537561/pip-req-build-sxpo8hnv\n",
      "  Resolved https://github.com/Mishima-syk/psikit to commit f57911c85b814e570215f184619bb35dbc4ac719\n",
      "  Preparing metadata (setup.py) ... \u001b[?25ldone\n",
      "\u001b[?25hRequirement already satisfied: debtcollector in /ext3/miniconda3/lib/python3.9/site-packages (from Psikit==0.2.0) (2.5.0)\n",
      "Requirement already satisfied: wrapt>=1.7.0 in /ext3/miniconda3/lib/python3.9/site-packages (from debtcollector->Psikit==0.2.0) (1.14.1)\n",
      "Building wheels for collected packages: Psikit\n",
      "  Building wheel for Psikit (setup.py) ... \u001b[?25ldone\n",
      "\u001b[?25h  Created wheel for Psikit: filename=Psikit-0.2.0-py3-none-any.whl size=16106 sha256=1af36e75823012f5b6061b403be975fc186a51105805bb569f95bdfcfd406cbf\n",
      "  Stored in directory: /state/partition1/job-53537561/pip-ephem-wheel-cache-7qjmdxhu/wheels/4c/15/76/11641dcde06f4bca4ff36336c12eb2961b54f2dee903bc9ca5\n",
      "Successfully built Psikit\n",
      "Installing collected packages: Psikit\n",
      "Successfully installed Psikit-0.2.0\n",
      "Note: you may need to restart the kernel to use updated packages.\n"
     ]
    }
   ],
   "source": [
    "pip install git+https://github.com/Mishima-syk/psikit"
   ]
  },
  {
   "cell_type": "code",
   "execution_count": 7,
   "id": "3d6c414d-941e-41d6-a005-27c878f64f2d",
   "metadata": {},
   "outputs": [
    {
     "ename": "NameError",
     "evalue": "name 'pytest' is not defined",
     "output_type": "error",
     "traceback": [
      "\u001b[0;31m---------------------------------------------------------------------------\u001b[0m",
      "\u001b[0;31mNameError\u001b[0m                                 Traceback (most recent call last)",
      "Cell \u001b[0;32mIn [7], line 1\u001b[0m\n\u001b[0;32m----> 1\u001b[0m \u001b[43mpytest\u001b[49m \u001b[38;5;241m-\u001b[39m\u001b[38;5;241m-\u001b[39mdisable\u001b[38;5;241m-\u001b[39mwarnings \u001b[38;5;241m-\u001b[39mv\n",
      "\u001b[0;31mNameError\u001b[0m: name 'pytest' is not defined"
     ]
    }
   ],
   "source": [
    "pytest --disable-warnings -v"
   ]
  },
  {
   "cell_type": "code",
   "execution_count": 9,
   "id": "cbf6a53a-2d45-449e-bd98-a6b447950719",
   "metadata": {},
   "outputs": [
    {
     "name": "stdout",
     "output_type": "stream",
     "text": [
      "SCF Energy:  -230.7122796511913\n",
      "HOMO:  -0.3284853235266757\n",
      "LUMO:  0.14565232529487707\n",
      "SCF Total Dipole Moment: 0.0\n"
     ]
    }
   ],
   "source": [
    "from psikit import Psikit\n",
    "pk = Psikit(debug=True,threads=1,memory=12)\n",
    "pk.read_from_smiles(\"c1ccccc1\")\n",
    "print(\"SCF Energy: \", pk.energy())\n",
    "print(\"HOMO: \", pk.HOMO)\n",
    "print(\"LUMO: \", pk.LUMO)\n",
    "x, y, z, total = pk.dipolemoment\n",
    "print(\"SCF Total Dipole Moment: {}\".format(total))\n",
    "# SCF Energy:  -230.712279648862\n",
    "# HOMO:  -0.32848562009092513\n",
    "# LUMO:  0.1456515222506689\n",
    "# SCF Total Dipole Moment: 3.292464934070545e-05"
   ]
  },
  {
   "cell_type": "code",
   "execution_count": 10,
   "id": "0e723697-295b-4dd2-a936-90dc79d1edf4",
   "metadata": {},
   "outputs": [
    {
     "name": "stdout",
     "output_type": "stream",
     "text": [
      "Optimizer: Optimization complete!\n",
      "Optimized SCF Energy:  -230.71352354225348\n"
     ]
    }
   ],
   "source": [
    "pk = Psikit(debug=True,threads=1,memory=12)\n",
    "pk.read_from_smiles(\"c1ccccc1\")\n",
    "print(\"Optimized SCF Energy: \", pk.optimize())\n",
    "# Optimizer: Optimization complete!\n",
    "# Optimized SCF Energy:  -230.71352354223438"
   ]
  },
  {
   "cell_type": "code",
   "execution_count": 11,
   "id": "a3d9d718-bc62-48ed-8808-781421c99280",
   "metadata": {},
   "outputs": [
    {
     "name": "stdout",
     "output_type": "stream",
     "text": [
      "Optimizer: Optimization failed!\n",
      "Convergence error caught: Could not converge geometry optimization in 9 iterations.\n"
     ]
    },
    {
     "name": "stderr",
     "output_type": "stream",
     "text": [
      "TORS::compute_val: unable to compute torsion value\n"
     ]
    },
    {
     "name": "stdout",
     "output_type": "stream",
     "text": [
      "C ESP:-0.29457521816030324\tRESP:-0.27859887200425365\n",
      "C ESP:0.81742330390398377\tRESP:0.81742330390398388\n",
      "O ESP:-0.60725412586755967\tRESP:-0.60725412586755956\n",
      "O ESP:-0.6663912807923682\tRESP:-0.66639128079236831\n",
      "H ESP:0.099005993842799789\tRESP:0.093680545124116527\n",
      "H ESP:0.099005993842799789\tRESP:0.093680545124116527\n",
      "H ESP:0.099005993842799789\tRESP:0.093680545124116527\n",
      "H ESP:0.45377933938784798\tRESP:0.45377933938784809\n",
      "Optimizer: Optimization complete!\n"
     ]
    },
    {
     "data": {
      "text/plain": [
       "array([-0.29619603,  0.33305641, -0.34989431, -0.29151693,  0.12612951,\n",
       "        0.1187106 ,  0.12391483,  0.23579593])"
      ]
     },
     "execution_count": 11,
     "metadata": {},
     "output_type": "execute_result"
    }
   ],
   "source": [
    "# REF http://ambermd.org/tutorials/advanced/tutorial1/files/resp_paper_jacs.pdf\n",
    "pk = Psikit(debug=True,threads=1,memory=12)\n",
    "pk.read_from_smiles(\"CC(=O)O\")\n",
    "pk.optimize()\n",
    "# Optimizer: Optimization complete!\n",
    "# -227.82180859253418\n",
    "pk.calc_resp_charges()\n",
    "# array([-0.32506898,  0.83672649, -0.61924915, -0.66135715,  0.10450057,\n",
    "#    0.10478188,  0.10780051,  0.45186584])\n",
    "\n",
    "for atom in pk.mol.GetAtoms(): \n",
    "    print(atom.GetSymbol(), \"ESP:{}\\tRESP:{}\".format(atom.GetProp(\"EP\"), atom.GetProp(\"RESP\"))) \n",
    "\n",
    "# C ESP:-0.49662019588648315\tRESP:-0.3250689814483399\n",
    "# C ESP:0.91473263536048643\t\tRESP:0.83672648554100837\n",
    "# O ESP:-0.63823808477114718\tRESP:-0.61924915363703359\n",
    "# O ESP:-0.6763331997116846\t\tRESP:-0.66135714989354499\n",
    "# H ESP:0.14625849864628995\t\tRESP:0.10450056830656008\n",
    "# H ESP:0.14578513969681847\t\tRESP:0.10478187811883517\n",
    "# H ESP:0.1530843954112609\t\tRESP:0.1078005104750676\n",
    "# H ESP:0.45133081125445906\t\tRESP:0.45186584253744722\n",
    "\n",
    "### Compute Mulliken charges and Lowdin charges\n",
    "\n",
    "pk = Psikit(debug=True,threads=1,memory=12)\n",
    "pk.read_from_smiles(\"CC(=O)O\")\n",
    "pk.optimize() # or pk.energy()\n",
    "\n",
    "pk.calc_mulliken_charges()\n",
    "# array([-0.42203029,  0.72794785, -0.55419051, -0.59333358,  0.16369722,\n",
    "#    0.1636994 ,  0.15462075,  0.35958916])\n",
    "\n",
    "pk.calc_lowdin_charges()\n",
    "#array([-0.30006577,  0.33900448, -0.35983788, -0.28463832,  0.12439944,\n",
    "#    0.12810672,  0.11935266,  0.23367866])"
   ]
  },
  {
   "cell_type": "code",
   "execution_count": 13,
   "id": "a7d49875-ba1e-4808-9e07-60c071472440",
   "metadata": {},
   "outputs": [
    {
     "name": "stdout",
     "output_type": "stream",
     "text": [
      "Optimizer: Optimization complete!\n"
     ]
    },
    {
     "data": {
      "text/plain": [
       "-227.89204563102965"
      ]
     },
     "execution_count": 13,
     "metadata": {},
     "output_type": "execute_result"
    }
   ],
   "source": [
    "from psikit import Psikit\n",
    "pk = Psikit(debug=True,threads=1,memory=12)\n",
    "pk.read_from_smiles(\"c1ccccc1\")\n",
    "pk.optimize(basis_sets=\"scf/sto-3g\")\n"
   ]
  }
 ],
 "metadata": {
  "kernelspec": {
   "display_name": "lab_env_2024",
   "language": "python",
   "name": "lab_env_2024"
  },
  "language_info": {
   "codemirror_mode": {
    "name": "ipython",
    "version": 3
   },
   "file_extension": ".py",
   "mimetype": "text/x-python",
   "name": "python",
   "nbconvert_exporter": "python",
   "pygments_lexer": "ipython3",
   "version": "3.9.12"
  }
 },
 "nbformat": 4,
 "nbformat_minor": 5
}
