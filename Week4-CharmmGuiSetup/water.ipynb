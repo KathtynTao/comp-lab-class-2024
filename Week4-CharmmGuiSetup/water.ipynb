{
 "cells": [
  {
   "cell_type": "code",
   "execution_count": 1,
   "id": "2dfc32da-e25b-478a-9e6d-82e2d30075bc",
   "metadata": {},
   "outputs": [
    {
     "name": "stdout",
     "output_type": "stream",
     "text": [
      "Defaulting to user installation because normal site-packages is not writeable\n",
      "Requirement already satisfied: MDAnalysis in /home/st5430/.local/lib/python3.11/site-packages (2.7.0)\n",
      "Requirement already satisfied: matplotlib in /share/apps/anaconda3/2024.02/lib/python3.11/site-packages (3.8.0)\n",
      "Requirement already satisfied: numpy<2.0,>=1.22.3 in /share/apps/anaconda3/2024.02/lib/python3.11/site-packages (from MDAnalysis) (1.26.4)\n",
      "Requirement already satisfied: GridDataFormats>=0.4.0 in /home/st5430/.local/lib/python3.11/site-packages (from MDAnalysis) (1.0.2)\n",
      "Requirement already satisfied: mmtf-python>=1.0.0 in /home/st5430/.local/lib/python3.11/site-packages (from MDAnalysis) (1.1.3)\n",
      "Requirement already satisfied: joblib>=0.12 in /share/apps/anaconda3/2024.02/lib/python3.11/site-packages (from MDAnalysis) (1.2.0)\n",
      "Requirement already satisfied: scipy>=1.5.0 in /share/apps/anaconda3/2024.02/lib/python3.11/site-packages (from MDAnalysis) (1.11.4)\n",
      "Requirement already satisfied: tqdm>=4.43.0 in /share/apps/anaconda3/2024.02/lib/python3.11/site-packages (from MDAnalysis) (4.65.0)\n",
      "Requirement already satisfied: threadpoolctl in /share/apps/anaconda3/2024.02/lib/python3.11/site-packages (from MDAnalysis) (2.2.0)\n",
      "Requirement already satisfied: packaging in /share/apps/anaconda3/2024.02/lib/python3.11/site-packages (from MDAnalysis) (23.1)\n",
      "Requirement already satisfied: fasteners in /home/st5430/.local/lib/python3.11/site-packages (from MDAnalysis) (0.19)\n",
      "Requirement already satisfied: mda-xdrlib in /home/st5430/.local/lib/python3.11/site-packages (from MDAnalysis) (0.2.0)\n",
      "Requirement already satisfied: contourpy>=1.0.1 in /share/apps/anaconda3/2024.02/lib/python3.11/site-packages (from matplotlib) (1.2.0)\n",
      "Requirement already satisfied: cycler>=0.10 in /share/apps/anaconda3/2024.02/lib/python3.11/site-packages (from matplotlib) (0.11.0)\n",
      "Requirement already satisfied: fonttools>=4.22.0 in /share/apps/anaconda3/2024.02/lib/python3.11/site-packages (from matplotlib) (4.25.0)\n",
      "Requirement already satisfied: kiwisolver>=1.0.1 in /share/apps/anaconda3/2024.02/lib/python3.11/site-packages (from matplotlib) (1.4.4)\n",
      "Requirement already satisfied: pillow>=6.2.0 in /share/apps/anaconda3/2024.02/lib/python3.11/site-packages (from matplotlib) (10.2.0)\n",
      "Requirement already satisfied: pyparsing>=2.3.1 in /share/apps/anaconda3/2024.02/lib/python3.11/site-packages (from matplotlib) (3.0.9)\n",
      "Requirement already satisfied: python-dateutil>=2.7 in /share/apps/anaconda3/2024.02/lib/python3.11/site-packages (from matplotlib) (2.8.2)\n",
      "Requirement already satisfied: mrcfile in /home/st5430/.local/lib/python3.11/site-packages (from GridDataFormats>=0.4.0->MDAnalysis) (1.5.3)\n",
      "Requirement already satisfied: msgpack>=1.0.0 in /share/apps/anaconda3/2024.02/lib/python3.11/site-packages (from mmtf-python>=1.0.0->MDAnalysis) (1.0.3)\n",
      "Requirement already satisfied: six>=1.5 in /share/apps/anaconda3/2024.02/lib/python3.11/site-packages (from python-dateutil>=2.7->matplotlib) (1.16.0)\n",
      "Note: you may need to restart the kernel to use updated packages.\n"
     ]
    }
   ],
   "source": [
    "pip install MDAnalysis matplotlib\n"
   ]
  },
  {
   "cell_type": "code",
   "execution_count": 2,
   "id": "51687633-ea2c-4f36-908d-5e650334c83e",
   "metadata": {},
   "outputs": [
    {
     "ename": "FileNotFoundError",
     "evalue": "[Errno 2] No such file or directory: 'protein.gro'",
     "output_type": "error",
     "traceback": [
      "\u001b[0;31m---------------------------------------------------------------------------\u001b[0m",
      "\u001b[0;31mFileNotFoundError\u001b[0m                         Traceback (most recent call last)",
      "    \u001b[0;31m[... skipping hidden 1 frame]\u001b[0m\n",
      "Cell \u001b[0;32mIn[2], line 11\u001b[0m\n\u001b[1;32m     10\u001b[0m \u001b[38;5;66;03m# Load the trajectory\u001b[39;00m\n\u001b[0;32m---> 11\u001b[0m u \u001b[38;5;241m=\u001b[39m mda\u001b[38;5;241m.\u001b[39mUniverse(topology_file, trajectory_file)\n\u001b[1;32m     13\u001b[0m \u001b[38;5;66;03m# Select atoms: Water Oxygens, Sodium, and Oxygen atoms (modify the selections as needed)\u001b[39;00m\n",
      "File \u001b[0;32m~/.local/lib/python3.11/site-packages/MDAnalysis/core/universe.py:356\u001b[0m, in \u001b[0;36mUniverse.__init__\u001b[0;34m(self, topology, all_coordinates, format, topology_format, transformations, guess_bonds, vdwradii, fudge_factor, lower_bound, in_memory, in_memory_step, *coordinates, **kwargs)\u001b[0m\n\u001b[1;32m    355\u001b[0m     \u001b[38;5;28mself\u001b[39m\u001b[38;5;241m.\u001b[39mfilename \u001b[38;5;241m=\u001b[39m _check_file_like(topology)\n\u001b[0;32m--> 356\u001b[0m     topology \u001b[38;5;241m=\u001b[39m _topology_from_file_like(\u001b[38;5;28mself\u001b[39m\u001b[38;5;241m.\u001b[39mfilename,\n\u001b[1;32m    357\u001b[0m                                         topology_format\u001b[38;5;241m=\u001b[39mtopology_format,\n\u001b[1;32m    358\u001b[0m                                         \u001b[38;5;241m*\u001b[39m\u001b[38;5;241m*\u001b[39mkwargs)\n\u001b[1;32m    360\u001b[0m \u001b[38;5;28;01mif\u001b[39;00m topology \u001b[38;5;129;01mis\u001b[39;00m \u001b[38;5;129;01mnot\u001b[39;00m \u001b[38;5;28;01mNone\u001b[39;00m:\n",
      "File \u001b[0;32m~/.local/lib/python3.11/site-packages/MDAnalysis/core/universe.py:118\u001b[0m, in \u001b[0;36m_topology_from_file_like\u001b[0;34m(topology_file, topology_format, **kwargs)\u001b[0m\n\u001b[1;32m    115\u001b[0m \u001b[38;5;28;01mif\u001b[39;00m (err\u001b[38;5;241m.\u001b[39merrno \u001b[38;5;129;01mis\u001b[39;00m \u001b[38;5;129;01mnot\u001b[39;00m \u001b[38;5;28;01mNone\u001b[39;00m \u001b[38;5;129;01mand\u001b[39;00m\n\u001b[1;32m    116\u001b[0m     errno\u001b[38;5;241m.\u001b[39merrorcode[err\u001b[38;5;241m.\u001b[39merrno] \u001b[38;5;129;01min\u001b[39;00m [\u001b[38;5;124m'\u001b[39m\u001b[38;5;124mENOENT\u001b[39m\u001b[38;5;124m'\u001b[39m, \u001b[38;5;124m'\u001b[39m\u001b[38;5;124mEACCES\u001b[39m\u001b[38;5;124m'\u001b[39m]):\n\u001b[1;32m    117\u001b[0m     \u001b[38;5;66;03m# Runs if the error is propagated due to no permission / file not found\u001b[39;00m\n\u001b[0;32m--> 118\u001b[0m     \u001b[38;5;28;01mraise\u001b[39;00m sys\u001b[38;5;241m.\u001b[39mexc_info()[\u001b[38;5;241m1\u001b[39m] \u001b[38;5;28;01mfrom\u001b[39;00m \u001b[38;5;21;01merr\u001b[39;00m\n\u001b[1;32m    119\u001b[0m \u001b[38;5;28;01melse\u001b[39;00m:\n\u001b[1;32m    120\u001b[0m     \u001b[38;5;66;03m# Runs when the parser fails\u001b[39;00m\n",
      "File \u001b[0;32m~/.local/lib/python3.11/site-packages/MDAnalysis/core/universe.py:110\u001b[0m, in \u001b[0;36m_topology_from_file_like\u001b[0;34m(topology_file, topology_format, **kwargs)\u001b[0m\n\u001b[1;32m    109\u001b[0m     \u001b[38;5;28;01mwith\u001b[39;00m parser(topology_file) \u001b[38;5;28;01mas\u001b[39;00m p:\n\u001b[0;32m--> 110\u001b[0m         topology \u001b[38;5;241m=\u001b[39m p\u001b[38;5;241m.\u001b[39mparse(\u001b[38;5;241m*\u001b[39m\u001b[38;5;241m*\u001b[39mkwargs)\n\u001b[1;32m    111\u001b[0m \u001b[38;5;28;01mexcept\u001b[39;00m (\u001b[38;5;167;01mIOError\u001b[39;00m, \u001b[38;5;167;01mOSError\u001b[39;00m) \u001b[38;5;28;01mas\u001b[39;00m err:\n\u001b[1;32m    112\u001b[0m     \u001b[38;5;66;03m# There are 2 kinds of errors that might be raised here:\u001b[39;00m\n\u001b[1;32m    113\u001b[0m     \u001b[38;5;66;03m# one because the file isn't present\u001b[39;00m\n\u001b[1;32m    114\u001b[0m     \u001b[38;5;66;03m# or the permissions are bad, second when the parser fails\u001b[39;00m\n",
      "File \u001b[0;32m~/.local/lib/python3.11/site-packages/MDAnalysis/topology/GROParser.py:84\u001b[0m, in \u001b[0;36mGROParser.parse\u001b[0;34m(self, **kwargs)\u001b[0m\n\u001b[1;32m     82\u001b[0m \u001b[38;5;66;03m# Gro has the following columns\u001b[39;00m\n\u001b[1;32m     83\u001b[0m \u001b[38;5;66;03m# resid, resname, name, index, (x,y,z)\u001b[39;00m\n\u001b[0;32m---> 84\u001b[0m \u001b[38;5;28;01mwith\u001b[39;00m openany(\u001b[38;5;28mself\u001b[39m\u001b[38;5;241m.\u001b[39mfilename) \u001b[38;5;28;01mas\u001b[39;00m inf:\n\u001b[1;32m     85\u001b[0m     \u001b[38;5;28mnext\u001b[39m(inf)\n",
      "File \u001b[0;32m/share/apps/anaconda3/2024.02/lib/python3.11/contextlib.py:137\u001b[0m, in \u001b[0;36m_GeneratorContextManager.__enter__\u001b[0;34m(self)\u001b[0m\n\u001b[1;32m    136\u001b[0m \u001b[38;5;28;01mtry\u001b[39;00m:\n\u001b[0;32m--> 137\u001b[0m     \u001b[38;5;28;01mreturn\u001b[39;00m \u001b[38;5;28mnext\u001b[39m(\u001b[38;5;28mself\u001b[39m\u001b[38;5;241m.\u001b[39mgen)\n\u001b[1;32m    138\u001b[0m \u001b[38;5;28;01mexcept\u001b[39;00m \u001b[38;5;167;01mStopIteration\u001b[39;00m:\n",
      "File \u001b[0;32m~/.local/lib/python3.11/site-packages/MDAnalysis/lib/util.py:318\u001b[0m, in \u001b[0;36mopenany\u001b[0;34m(datasource, mode, reset)\u001b[0m\n\u001b[1;32m    276\u001b[0m \u001b[38;5;250m\u001b[39m\u001b[38;5;124;03m\"\"\"Context manager for :func:`anyopen`.\u001b[39;00m\n\u001b[1;32m    277\u001b[0m \n\u001b[1;32m    278\u001b[0m \u001b[38;5;124;03mOpen the `datasource` and close it when the context of the :keyword:`with`\u001b[39;00m\n\u001b[0;32m   (...)\u001b[0m\n\u001b[1;32m    316\u001b[0m \u001b[38;5;124;03m:func:`anyopen`\u001b[39;00m\n\u001b[1;32m    317\u001b[0m \u001b[38;5;124;03m\"\"\"\u001b[39;00m\n\u001b[0;32m--> 318\u001b[0m stream \u001b[38;5;241m=\u001b[39m anyopen(datasource, mode\u001b[38;5;241m=\u001b[39mmode, reset\u001b[38;5;241m=\u001b[39mreset)\n\u001b[1;32m    319\u001b[0m \u001b[38;5;28;01mtry\u001b[39;00m:\n",
      "File \u001b[0;32m~/.local/lib/python3.11/site-packages/MDAnalysis/lib/util.py:398\u001b[0m, in \u001b[0;36manyopen\u001b[0;34m(datasource, mode, reset)\u001b[0m\n\u001b[1;32m    397\u001b[0m openfunc \u001b[38;5;241m=\u001b[39m read_handlers[ext]\n\u001b[0;32m--> 398\u001b[0m stream \u001b[38;5;241m=\u001b[39m _get_stream(datasource, openfunc, mode\u001b[38;5;241m=\u001b[39mmode)\n\u001b[1;32m    399\u001b[0m \u001b[38;5;28;01mif\u001b[39;00m stream \u001b[38;5;129;01mis\u001b[39;00m \u001b[38;5;129;01mnot\u001b[39;00m \u001b[38;5;28;01mNone\u001b[39;00m:\n",
      "File \u001b[0;32m~/.local/lib/python3.11/site-packages/MDAnalysis/lib/util.py:440\u001b[0m, in \u001b[0;36m_get_stream\u001b[0;34m(filename, openfunction, mode)\u001b[0m\n\u001b[1;32m    439\u001b[0m \u001b[38;5;28;01mif\u001b[39;00m errno\u001b[38;5;241m.\u001b[39merrorcode[err\u001b[38;5;241m.\u001b[39merrno] \u001b[38;5;129;01min\u001b[39;00m [\u001b[38;5;124m'\u001b[39m\u001b[38;5;124mENOENT\u001b[39m\u001b[38;5;124m'\u001b[39m, \u001b[38;5;124m'\u001b[39m\u001b[38;5;124mEACCES\u001b[39m\u001b[38;5;124m'\u001b[39m]:\n\u001b[0;32m--> 440\u001b[0m     \u001b[38;5;28;01mraise\u001b[39;00m sys\u001b[38;5;241m.\u001b[39mexc_info()[\u001b[38;5;241m1\u001b[39m] \u001b[38;5;28;01mfrom\u001b[39;00m \u001b[38;5;21;01merr\u001b[39;00m\n\u001b[1;32m    441\u001b[0m \u001b[38;5;28;01mreturn\u001b[39;00m \u001b[38;5;28;01mNone\u001b[39;00m\n",
      "File \u001b[0;32m~/.local/lib/python3.11/site-packages/MDAnalysis/lib/util.py:434\u001b[0m, in \u001b[0;36m_get_stream\u001b[0;34m(filename, openfunction, mode)\u001b[0m\n\u001b[1;32m    433\u001b[0m \u001b[38;5;28;01mtry\u001b[39;00m:\n\u001b[0;32m--> 434\u001b[0m     stream \u001b[38;5;241m=\u001b[39m openfunction(filename, mode\u001b[38;5;241m=\u001b[39mmode)\n\u001b[1;32m    435\u001b[0m \u001b[38;5;28;01mexcept\u001b[39;00m (\u001b[38;5;167;01mIOError\u001b[39;00m, \u001b[38;5;167;01mOSError\u001b[39;00m) \u001b[38;5;28;01mas\u001b[39;00m err:\n\u001b[1;32m    436\u001b[0m     \u001b[38;5;66;03m# An exception might be raised due to two reasons, first the openfunction is unable to open the file, in this\u001b[39;00m\n\u001b[1;32m    437\u001b[0m     \u001b[38;5;66;03m# case we have to ignore the error and return None. Second is when openfunction can't open the file because\u001b[39;00m\n\u001b[1;32m    438\u001b[0m     \u001b[38;5;66;03m# either the file isn't there or the permissions don't allow access.\u001b[39;00m\n",
      "File \u001b[0;32m~/.local/lib/python3.11/site-packages/MDAnalysis/lib/picklable_file_io.py:502\u001b[0m, in \u001b[0;36mbz2_pickle_open\u001b[0;34m(name, mode)\u001b[0m\n\u001b[1;32m    501\u001b[0m bz_mode \u001b[38;5;241m=\u001b[39m mode\u001b[38;5;241m.\u001b[39mreplace(\u001b[38;5;124m\"\u001b[39m\u001b[38;5;124mt\u001b[39m\u001b[38;5;124m\"\u001b[39m, \u001b[38;5;124m\"\u001b[39m\u001b[38;5;124m\"\u001b[39m)\n\u001b[0;32m--> 502\u001b[0m binary_file \u001b[38;5;241m=\u001b[39m BZ2Picklable(name, bz_mode)\n\u001b[1;32m    503\u001b[0m \u001b[38;5;28;01mif\u001b[39;00m \u001b[38;5;124m\"\u001b[39m\u001b[38;5;124mt\u001b[39m\u001b[38;5;124m\"\u001b[39m \u001b[38;5;129;01min\u001b[39;00m mode:\n",
      "File \u001b[0;32m~/.local/lib/python3.11/site-packages/MDAnalysis/lib/picklable_file_io.py:283\u001b[0m, in \u001b[0;36mBZ2Picklable.__init__\u001b[0;34m(self, name, mode)\u001b[0m\n\u001b[1;32m    282\u001b[0m \u001b[38;5;28mself\u001b[39m\u001b[38;5;241m.\u001b[39m_bz_mode \u001b[38;5;241m=\u001b[39m mode\n\u001b[0;32m--> 283\u001b[0m \u001b[38;5;28msuper\u001b[39m()\u001b[38;5;241m.\u001b[39m\u001b[38;5;21m__init__\u001b[39m(name, mode)\n",
      "File \u001b[0;32m/share/apps/anaconda3/2024.02/lib/python3.11/bz2.py:81\u001b[0m, in \u001b[0;36mBZ2File.__init__\u001b[0;34m(self, filename, mode, compresslevel)\u001b[0m\n\u001b[1;32m     80\u001b[0m \u001b[38;5;28;01mif\u001b[39;00m \u001b[38;5;28misinstance\u001b[39m(filename, (\u001b[38;5;28mstr\u001b[39m, \u001b[38;5;28mbytes\u001b[39m, os\u001b[38;5;241m.\u001b[39mPathLike)):\n\u001b[0;32m---> 81\u001b[0m     \u001b[38;5;28mself\u001b[39m\u001b[38;5;241m.\u001b[39m_fp \u001b[38;5;241m=\u001b[39m _builtin_open(filename, mode)\n\u001b[1;32m     82\u001b[0m     \u001b[38;5;28mself\u001b[39m\u001b[38;5;241m.\u001b[39m_closefp \u001b[38;5;241m=\u001b[39m \u001b[38;5;28;01mTrue\u001b[39;00m\n",
      "\u001b[0;31mFileNotFoundError\u001b[0m: [Errno 2] No such file or directory: 'protein.gro'",
      "\nThe above exception was the direct cause of the following exception:\n",
      "\u001b[0;31mFileNotFoundError\u001b[0m                         Traceback (most recent call last)",
      "    \u001b[0;31m[... skipping hidden 1 frame]\u001b[0m\n",
      "Cell \u001b[0;32mIn[2], line 11\u001b[0m\n\u001b[1;32m     10\u001b[0m \u001b[38;5;66;03m# Load the trajectory\u001b[39;00m\n\u001b[0;32m---> 11\u001b[0m u \u001b[38;5;241m=\u001b[39m mda\u001b[38;5;241m.\u001b[39mUniverse(topology_file, trajectory_file)\n\u001b[1;32m     13\u001b[0m \u001b[38;5;66;03m# Select atoms: Water Oxygens, Sodium, and Oxygen atoms (modify the selections as needed)\u001b[39;00m\n",
      "File \u001b[0;32m~/.local/lib/python3.11/site-packages/MDAnalysis/core/universe.py:356\u001b[0m, in \u001b[0;36mUniverse.__init__\u001b[0;34m(self, topology, all_coordinates, format, topology_format, transformations, guess_bonds, vdwradii, fudge_factor, lower_bound, in_memory, in_memory_step, *coordinates, **kwargs)\u001b[0m\n\u001b[1;32m    355\u001b[0m     \u001b[38;5;28mself\u001b[39m\u001b[38;5;241m.\u001b[39mfilename \u001b[38;5;241m=\u001b[39m _check_file_like(topology)\n\u001b[0;32m--> 356\u001b[0m     topology \u001b[38;5;241m=\u001b[39m _topology_from_file_like(\u001b[38;5;28mself\u001b[39m\u001b[38;5;241m.\u001b[39mfilename,\n\u001b[1;32m    357\u001b[0m                                         topology_format\u001b[38;5;241m=\u001b[39mtopology_format,\n\u001b[1;32m    358\u001b[0m                                         \u001b[38;5;241m*\u001b[39m\u001b[38;5;241m*\u001b[39mkwargs)\n\u001b[1;32m    360\u001b[0m \u001b[38;5;28;01mif\u001b[39;00m topology \u001b[38;5;129;01mis\u001b[39;00m \u001b[38;5;129;01mnot\u001b[39;00m \u001b[38;5;28;01mNone\u001b[39;00m:\n",
      "File \u001b[0;32m~/.local/lib/python3.11/site-packages/MDAnalysis/core/universe.py:118\u001b[0m, in \u001b[0;36m_topology_from_file_like\u001b[0;34m(topology_file, topology_format, **kwargs)\u001b[0m\n\u001b[1;32m    115\u001b[0m \u001b[38;5;28;01mif\u001b[39;00m (err\u001b[38;5;241m.\u001b[39merrno \u001b[38;5;129;01mis\u001b[39;00m \u001b[38;5;129;01mnot\u001b[39;00m \u001b[38;5;28;01mNone\u001b[39;00m \u001b[38;5;129;01mand\u001b[39;00m\n\u001b[1;32m    116\u001b[0m     errno\u001b[38;5;241m.\u001b[39merrorcode[err\u001b[38;5;241m.\u001b[39merrno] \u001b[38;5;129;01min\u001b[39;00m [\u001b[38;5;124m'\u001b[39m\u001b[38;5;124mENOENT\u001b[39m\u001b[38;5;124m'\u001b[39m, \u001b[38;5;124m'\u001b[39m\u001b[38;5;124mEACCES\u001b[39m\u001b[38;5;124m'\u001b[39m]):\n\u001b[1;32m    117\u001b[0m     \u001b[38;5;66;03m# Runs if the error is propagated due to no permission / file not found\u001b[39;00m\n\u001b[0;32m--> 118\u001b[0m     \u001b[38;5;28;01mraise\u001b[39;00m sys\u001b[38;5;241m.\u001b[39mexc_info()[\u001b[38;5;241m1\u001b[39m] \u001b[38;5;28;01mfrom\u001b[39;00m \u001b[38;5;21;01merr\u001b[39;00m\n\u001b[1;32m    119\u001b[0m \u001b[38;5;28;01melse\u001b[39;00m:\n\u001b[1;32m    120\u001b[0m     \u001b[38;5;66;03m# Runs when the parser fails\u001b[39;00m\n",
      "File \u001b[0;32m~/.local/lib/python3.11/site-packages/MDAnalysis/core/universe.py:110\u001b[0m, in \u001b[0;36m_topology_from_file_like\u001b[0;34m(topology_file, topology_format, **kwargs)\u001b[0m\n\u001b[1;32m    109\u001b[0m     \u001b[38;5;28;01mwith\u001b[39;00m parser(topology_file) \u001b[38;5;28;01mas\u001b[39;00m p:\n\u001b[0;32m--> 110\u001b[0m         topology \u001b[38;5;241m=\u001b[39m p\u001b[38;5;241m.\u001b[39mparse(\u001b[38;5;241m*\u001b[39m\u001b[38;5;241m*\u001b[39mkwargs)\n\u001b[1;32m    111\u001b[0m \u001b[38;5;28;01mexcept\u001b[39;00m (\u001b[38;5;167;01mIOError\u001b[39;00m, \u001b[38;5;167;01mOSError\u001b[39;00m) \u001b[38;5;28;01mas\u001b[39;00m err:\n\u001b[1;32m    112\u001b[0m     \u001b[38;5;66;03m# There are 2 kinds of errors that might be raised here:\u001b[39;00m\n\u001b[1;32m    113\u001b[0m     \u001b[38;5;66;03m# one because the file isn't present\u001b[39;00m\n\u001b[1;32m    114\u001b[0m     \u001b[38;5;66;03m# or the permissions are bad, second when the parser fails\u001b[39;00m\n",
      "File \u001b[0;32m~/.local/lib/python3.11/site-packages/MDAnalysis/topology/GROParser.py:84\u001b[0m, in \u001b[0;36mGROParser.parse\u001b[0;34m(self, **kwargs)\u001b[0m\n\u001b[1;32m     82\u001b[0m \u001b[38;5;66;03m# Gro has the following columns\u001b[39;00m\n\u001b[1;32m     83\u001b[0m \u001b[38;5;66;03m# resid, resname, name, index, (x,y,z)\u001b[39;00m\n\u001b[0;32m---> 84\u001b[0m \u001b[38;5;28;01mwith\u001b[39;00m openany(\u001b[38;5;28mself\u001b[39m\u001b[38;5;241m.\u001b[39mfilename) \u001b[38;5;28;01mas\u001b[39;00m inf:\n\u001b[1;32m     85\u001b[0m     \u001b[38;5;28mnext\u001b[39m(inf)\n",
      "File \u001b[0;32m/share/apps/anaconda3/2024.02/lib/python3.11/contextlib.py:137\u001b[0m, in \u001b[0;36m_GeneratorContextManager.__enter__\u001b[0;34m(self)\u001b[0m\n\u001b[1;32m    136\u001b[0m \u001b[38;5;28;01mtry\u001b[39;00m:\n\u001b[0;32m--> 137\u001b[0m     \u001b[38;5;28;01mreturn\u001b[39;00m \u001b[38;5;28mnext\u001b[39m(\u001b[38;5;28mself\u001b[39m\u001b[38;5;241m.\u001b[39mgen)\n\u001b[1;32m    138\u001b[0m \u001b[38;5;28;01mexcept\u001b[39;00m \u001b[38;5;167;01mStopIteration\u001b[39;00m:\n",
      "File \u001b[0;32m~/.local/lib/python3.11/site-packages/MDAnalysis/lib/util.py:318\u001b[0m, in \u001b[0;36mopenany\u001b[0;34m(datasource, mode, reset)\u001b[0m\n\u001b[1;32m    276\u001b[0m \u001b[38;5;250m\u001b[39m\u001b[38;5;124;03m\"\"\"Context manager for :func:`anyopen`.\u001b[39;00m\n\u001b[1;32m    277\u001b[0m \n\u001b[1;32m    278\u001b[0m \u001b[38;5;124;03mOpen the `datasource` and close it when the context of the :keyword:`with`\u001b[39;00m\n\u001b[0;32m   (...)\u001b[0m\n\u001b[1;32m    316\u001b[0m \u001b[38;5;124;03m:func:`anyopen`\u001b[39;00m\n\u001b[1;32m    317\u001b[0m \u001b[38;5;124;03m\"\"\"\u001b[39;00m\n\u001b[0;32m--> 318\u001b[0m stream \u001b[38;5;241m=\u001b[39m anyopen(datasource, mode\u001b[38;5;241m=\u001b[39mmode, reset\u001b[38;5;241m=\u001b[39mreset)\n\u001b[1;32m    319\u001b[0m \u001b[38;5;28;01mtry\u001b[39;00m:\n",
      "File \u001b[0;32m~/.local/lib/python3.11/site-packages/MDAnalysis/lib/util.py:398\u001b[0m, in \u001b[0;36manyopen\u001b[0;34m(datasource, mode, reset)\u001b[0m\n\u001b[1;32m    397\u001b[0m openfunc \u001b[38;5;241m=\u001b[39m read_handlers[ext]\n\u001b[0;32m--> 398\u001b[0m stream \u001b[38;5;241m=\u001b[39m _get_stream(datasource, openfunc, mode\u001b[38;5;241m=\u001b[39mmode)\n\u001b[1;32m    399\u001b[0m \u001b[38;5;28;01mif\u001b[39;00m stream \u001b[38;5;129;01mis\u001b[39;00m \u001b[38;5;129;01mnot\u001b[39;00m \u001b[38;5;28;01mNone\u001b[39;00m:\n",
      "File \u001b[0;32m~/.local/lib/python3.11/site-packages/MDAnalysis/lib/util.py:440\u001b[0m, in \u001b[0;36m_get_stream\u001b[0;34m(filename, openfunction, mode)\u001b[0m\n\u001b[1;32m    439\u001b[0m \u001b[38;5;28;01mif\u001b[39;00m errno\u001b[38;5;241m.\u001b[39merrorcode[err\u001b[38;5;241m.\u001b[39merrno] \u001b[38;5;129;01min\u001b[39;00m [\u001b[38;5;124m'\u001b[39m\u001b[38;5;124mENOENT\u001b[39m\u001b[38;5;124m'\u001b[39m, \u001b[38;5;124m'\u001b[39m\u001b[38;5;124mEACCES\u001b[39m\u001b[38;5;124m'\u001b[39m]:\n\u001b[0;32m--> 440\u001b[0m     \u001b[38;5;28;01mraise\u001b[39;00m sys\u001b[38;5;241m.\u001b[39mexc_info()[\u001b[38;5;241m1\u001b[39m] \u001b[38;5;28;01mfrom\u001b[39;00m \u001b[38;5;21;01merr\u001b[39;00m\n\u001b[1;32m    441\u001b[0m \u001b[38;5;28;01mreturn\u001b[39;00m \u001b[38;5;28;01mNone\u001b[39;00m\n",
      "File \u001b[0;32m~/.local/lib/python3.11/site-packages/MDAnalysis/lib/util.py:434\u001b[0m, in \u001b[0;36m_get_stream\u001b[0;34m(filename, openfunction, mode)\u001b[0m\n\u001b[1;32m    433\u001b[0m \u001b[38;5;28;01mtry\u001b[39;00m:\n\u001b[0;32m--> 434\u001b[0m     stream \u001b[38;5;241m=\u001b[39m openfunction(filename, mode\u001b[38;5;241m=\u001b[39mmode)\n\u001b[1;32m    435\u001b[0m \u001b[38;5;28;01mexcept\u001b[39;00m (\u001b[38;5;167;01mIOError\u001b[39;00m, \u001b[38;5;167;01mOSError\u001b[39;00m) \u001b[38;5;28;01mas\u001b[39;00m err:\n\u001b[1;32m    436\u001b[0m     \u001b[38;5;66;03m# An exception might be raised due to two reasons, first the openfunction is unable to open the file, in this\u001b[39;00m\n\u001b[1;32m    437\u001b[0m     \u001b[38;5;66;03m# case we have to ignore the error and return None. Second is when openfunction can't open the file because\u001b[39;00m\n\u001b[1;32m    438\u001b[0m     \u001b[38;5;66;03m# either the file isn't there or the permissions don't allow access.\u001b[39;00m\n",
      "File \u001b[0;32m~/.local/lib/python3.11/site-packages/MDAnalysis/lib/picklable_file_io.py:502\u001b[0m, in \u001b[0;36mbz2_pickle_open\u001b[0;34m(name, mode)\u001b[0m\n\u001b[1;32m    501\u001b[0m bz_mode \u001b[38;5;241m=\u001b[39m mode\u001b[38;5;241m.\u001b[39mreplace(\u001b[38;5;124m\"\u001b[39m\u001b[38;5;124mt\u001b[39m\u001b[38;5;124m\"\u001b[39m, \u001b[38;5;124m\"\u001b[39m\u001b[38;5;124m\"\u001b[39m)\n\u001b[0;32m--> 502\u001b[0m binary_file \u001b[38;5;241m=\u001b[39m BZ2Picklable(name, bz_mode)\n\u001b[1;32m    503\u001b[0m \u001b[38;5;28;01mif\u001b[39;00m \u001b[38;5;124m\"\u001b[39m\u001b[38;5;124mt\u001b[39m\u001b[38;5;124m\"\u001b[39m \u001b[38;5;129;01min\u001b[39;00m mode:\n",
      "File \u001b[0;32m~/.local/lib/python3.11/site-packages/MDAnalysis/lib/picklable_file_io.py:283\u001b[0m, in \u001b[0;36mBZ2Picklable.__init__\u001b[0;34m(self, name, mode)\u001b[0m\n\u001b[1;32m    282\u001b[0m \u001b[38;5;28mself\u001b[39m\u001b[38;5;241m.\u001b[39m_bz_mode \u001b[38;5;241m=\u001b[39m mode\n\u001b[0;32m--> 283\u001b[0m \u001b[38;5;28msuper\u001b[39m()\u001b[38;5;241m.\u001b[39m\u001b[38;5;21m__init__\u001b[39m(name, mode)\n",
      "File \u001b[0;32m/share/apps/anaconda3/2024.02/lib/python3.11/bz2.py:81\u001b[0m, in \u001b[0;36mBZ2File.__init__\u001b[0;34m(self, filename, mode, compresslevel)\u001b[0m\n\u001b[1;32m     80\u001b[0m \u001b[38;5;28;01mif\u001b[39;00m \u001b[38;5;28misinstance\u001b[39m(filename, (\u001b[38;5;28mstr\u001b[39m, \u001b[38;5;28mbytes\u001b[39m, os\u001b[38;5;241m.\u001b[39mPathLike)):\n\u001b[0;32m---> 81\u001b[0m     \u001b[38;5;28mself\u001b[39m\u001b[38;5;241m.\u001b[39m_fp \u001b[38;5;241m=\u001b[39m _builtin_open(filename, mode)\n\u001b[1;32m     82\u001b[0m     \u001b[38;5;28mself\u001b[39m\u001b[38;5;241m.\u001b[39m_closefp \u001b[38;5;241m=\u001b[39m \u001b[38;5;28;01mTrue\u001b[39;00m\n",
      "\u001b[0;31mFileNotFoundError\u001b[0m: [Errno 2] No such file or directory: 'protein.gro'",
      "\nThe above exception was the direct cause of the following exception:\n",
      "\u001b[0;31mFileNotFoundError\u001b[0m                         Traceback (most recent call last)",
      "Cell \u001b[0;32mIn[2], line 11\u001b[0m\n\u001b[1;32m      8\u001b[0m trajectory_file \u001b[38;5;241m=\u001b[39m \u001b[38;5;124m'\u001b[39m\u001b[38;5;124mconcatenated_unwrapped.xtc\u001b[39m\u001b[38;5;124m'\u001b[39m\n\u001b[1;32m     10\u001b[0m \u001b[38;5;66;03m# Load the trajectory\u001b[39;00m\n\u001b[0;32m---> 11\u001b[0m u \u001b[38;5;241m=\u001b[39m mda\u001b[38;5;241m.\u001b[39mUniverse(topology_file, trajectory_file)\n\u001b[1;32m     13\u001b[0m \u001b[38;5;66;03m# Select atoms: Water Oxygens, Sodium, and Oxygen atoms (modify the selections as needed)\u001b[39;00m\n\u001b[1;32m     14\u001b[0m water_oxygens \u001b[38;5;241m=\u001b[39m u\u001b[38;5;241m.\u001b[39mselect_atoms(\u001b[38;5;124m\"\u001b[39m\u001b[38;5;124mresname SOL and name OW\u001b[39m\u001b[38;5;124m\"\u001b[39m)  \u001b[38;5;66;03m# Water Oxygens (OW)\u001b[39;00m\n",
      "File \u001b[0;32m~/.local/lib/python3.11/site-packages/MDAnalysis/core/universe.py:356\u001b[0m, in \u001b[0;36mUniverse.__init__\u001b[0;34m(self, topology, all_coordinates, format, topology_format, transformations, guess_bonds, vdwradii, fudge_factor, lower_bound, in_memory, in_memory_step, *coordinates, **kwargs)\u001b[0m\n\u001b[1;32m    354\u001b[0m \u001b[38;5;28;01mif\u001b[39;00m \u001b[38;5;129;01mnot\u001b[39;00m \u001b[38;5;28misinstance\u001b[39m(topology, Topology) \u001b[38;5;129;01mand\u001b[39;00m \u001b[38;5;129;01mnot\u001b[39;00m topology \u001b[38;5;129;01mis\u001b[39;00m \u001b[38;5;28;01mNone\u001b[39;00m:\n\u001b[1;32m    355\u001b[0m     \u001b[38;5;28mself\u001b[39m\u001b[38;5;241m.\u001b[39mfilename \u001b[38;5;241m=\u001b[39m _check_file_like(topology)\n\u001b[0;32m--> 356\u001b[0m     topology \u001b[38;5;241m=\u001b[39m _topology_from_file_like(\u001b[38;5;28mself\u001b[39m\u001b[38;5;241m.\u001b[39mfilename,\n\u001b[1;32m    357\u001b[0m                                         topology_format\u001b[38;5;241m=\u001b[39mtopology_format,\n\u001b[1;32m    358\u001b[0m                                         \u001b[38;5;241m*\u001b[39m\u001b[38;5;241m*\u001b[39mkwargs)\n\u001b[1;32m    360\u001b[0m \u001b[38;5;28;01mif\u001b[39;00m topology \u001b[38;5;129;01mis\u001b[39;00m \u001b[38;5;129;01mnot\u001b[39;00m \u001b[38;5;28;01mNone\u001b[39;00m:\n\u001b[1;32m    361\u001b[0m     \u001b[38;5;28mself\u001b[39m\u001b[38;5;241m.\u001b[39m_topology \u001b[38;5;241m=\u001b[39m topology\n",
      "File \u001b[0;32m~/.local/lib/python3.11/site-packages/MDAnalysis/core/universe.py:118\u001b[0m, in \u001b[0;36m_topology_from_file_like\u001b[0;34m(topology_file, topology_format, **kwargs)\u001b[0m\n\u001b[1;32m    111\u001b[0m \u001b[38;5;28;01mexcept\u001b[39;00m (\u001b[38;5;167;01mIOError\u001b[39;00m, \u001b[38;5;167;01mOSError\u001b[39;00m) \u001b[38;5;28;01mas\u001b[39;00m err:\n\u001b[1;32m    112\u001b[0m     \u001b[38;5;66;03m# There are 2 kinds of errors that might be raised here:\u001b[39;00m\n\u001b[1;32m    113\u001b[0m     \u001b[38;5;66;03m# one because the file isn't present\u001b[39;00m\n\u001b[1;32m    114\u001b[0m     \u001b[38;5;66;03m# or the permissions are bad, second when the parser fails\u001b[39;00m\n\u001b[1;32m    115\u001b[0m     \u001b[38;5;28;01mif\u001b[39;00m (err\u001b[38;5;241m.\u001b[39merrno \u001b[38;5;129;01mis\u001b[39;00m \u001b[38;5;129;01mnot\u001b[39;00m \u001b[38;5;28;01mNone\u001b[39;00m \u001b[38;5;129;01mand\u001b[39;00m\n\u001b[1;32m    116\u001b[0m         errno\u001b[38;5;241m.\u001b[39merrorcode[err\u001b[38;5;241m.\u001b[39merrno] \u001b[38;5;129;01min\u001b[39;00m [\u001b[38;5;124m'\u001b[39m\u001b[38;5;124mENOENT\u001b[39m\u001b[38;5;124m'\u001b[39m, \u001b[38;5;124m'\u001b[39m\u001b[38;5;124mEACCES\u001b[39m\u001b[38;5;124m'\u001b[39m]):\n\u001b[1;32m    117\u001b[0m         \u001b[38;5;66;03m# Runs if the error is propagated due to no permission / file not found\u001b[39;00m\n\u001b[0;32m--> 118\u001b[0m         \u001b[38;5;28;01mraise\u001b[39;00m sys\u001b[38;5;241m.\u001b[39mexc_info()[\u001b[38;5;241m1\u001b[39m] \u001b[38;5;28;01mfrom\u001b[39;00m \u001b[38;5;21;01merr\u001b[39;00m\n\u001b[1;32m    119\u001b[0m     \u001b[38;5;28;01melse\u001b[39;00m:\n\u001b[1;32m    120\u001b[0m         \u001b[38;5;66;03m# Runs when the parser fails\u001b[39;00m\n\u001b[1;32m    121\u001b[0m         \u001b[38;5;28;01mraise\u001b[39;00m \u001b[38;5;167;01mIOError\u001b[39;00m(\u001b[38;5;124m\"\u001b[39m\u001b[38;5;124mFailed to load from the topology file \u001b[39m\u001b[38;5;132;01m{0}\u001b[39;00m\u001b[38;5;124m\"\u001b[39m\n\u001b[1;32m    122\u001b[0m                         \u001b[38;5;124m\"\u001b[39m\u001b[38;5;124m with parser \u001b[39m\u001b[38;5;132;01m{1}\u001b[39;00m\u001b[38;5;124m.\u001b[39m\u001b[38;5;130;01m\\n\u001b[39;00m\u001b[38;5;124m\"\u001b[39m\n\u001b[1;32m    123\u001b[0m                         \u001b[38;5;124m\"\u001b[39m\u001b[38;5;124mError: \u001b[39m\u001b[38;5;132;01m{2}\u001b[39;00m\u001b[38;5;124m\"\u001b[39m\u001b[38;5;241m.\u001b[39mformat(topology_file, parser, err))\n",
      "File \u001b[0;32m~/.local/lib/python3.11/site-packages/MDAnalysis/core/universe.py:110\u001b[0m, in \u001b[0;36m_topology_from_file_like\u001b[0;34m(topology_file, topology_format, **kwargs)\u001b[0m\n\u001b[1;32m    108\u001b[0m \u001b[38;5;28;01mtry\u001b[39;00m:\n\u001b[1;32m    109\u001b[0m     \u001b[38;5;28;01mwith\u001b[39;00m parser(topology_file) \u001b[38;5;28;01mas\u001b[39;00m p:\n\u001b[0;32m--> 110\u001b[0m         topology \u001b[38;5;241m=\u001b[39m p\u001b[38;5;241m.\u001b[39mparse(\u001b[38;5;241m*\u001b[39m\u001b[38;5;241m*\u001b[39mkwargs)\n\u001b[1;32m    111\u001b[0m \u001b[38;5;28;01mexcept\u001b[39;00m (\u001b[38;5;167;01mIOError\u001b[39;00m, \u001b[38;5;167;01mOSError\u001b[39;00m) \u001b[38;5;28;01mas\u001b[39;00m err:\n\u001b[1;32m    112\u001b[0m     \u001b[38;5;66;03m# There are 2 kinds of errors that might be raised here:\u001b[39;00m\n\u001b[1;32m    113\u001b[0m     \u001b[38;5;66;03m# one because the file isn't present\u001b[39;00m\n\u001b[1;32m    114\u001b[0m     \u001b[38;5;66;03m# or the permissions are bad, second when the parser fails\u001b[39;00m\n\u001b[1;32m    115\u001b[0m     \u001b[38;5;28;01mif\u001b[39;00m (err\u001b[38;5;241m.\u001b[39merrno \u001b[38;5;129;01mis\u001b[39;00m \u001b[38;5;129;01mnot\u001b[39;00m \u001b[38;5;28;01mNone\u001b[39;00m \u001b[38;5;129;01mand\u001b[39;00m\n\u001b[1;32m    116\u001b[0m         errno\u001b[38;5;241m.\u001b[39merrorcode[err\u001b[38;5;241m.\u001b[39merrno] \u001b[38;5;129;01min\u001b[39;00m [\u001b[38;5;124m'\u001b[39m\u001b[38;5;124mENOENT\u001b[39m\u001b[38;5;124m'\u001b[39m, \u001b[38;5;124m'\u001b[39m\u001b[38;5;124mEACCES\u001b[39m\u001b[38;5;124m'\u001b[39m]):\n\u001b[1;32m    117\u001b[0m         \u001b[38;5;66;03m# Runs if the error is propagated due to no permission / file not found\u001b[39;00m\n",
      "File \u001b[0;32m~/.local/lib/python3.11/site-packages/MDAnalysis/topology/GROParser.py:84\u001b[0m, in \u001b[0;36mGROParser.parse\u001b[0;34m(self, **kwargs)\u001b[0m\n\u001b[1;32m     81\u001b[0m \u001b[38;5;250m\u001b[39m\u001b[38;5;124;03m\"\"\"Return the *Topology* object for this file\"\"\"\u001b[39;00m\n\u001b[1;32m     82\u001b[0m \u001b[38;5;66;03m# Gro has the following columns\u001b[39;00m\n\u001b[1;32m     83\u001b[0m \u001b[38;5;66;03m# resid, resname, name, index, (x,y,z)\u001b[39;00m\n\u001b[0;32m---> 84\u001b[0m \u001b[38;5;28;01mwith\u001b[39;00m openany(\u001b[38;5;28mself\u001b[39m\u001b[38;5;241m.\u001b[39mfilename) \u001b[38;5;28;01mas\u001b[39;00m inf:\n\u001b[1;32m     85\u001b[0m     \u001b[38;5;28mnext\u001b[39m(inf)\n\u001b[1;32m     86\u001b[0m     n_atoms \u001b[38;5;241m=\u001b[39m \u001b[38;5;28mint\u001b[39m(\u001b[38;5;28mnext\u001b[39m(inf))\n",
      "File \u001b[0;32m/share/apps/anaconda3/2024.02/lib/python3.11/contextlib.py:137\u001b[0m, in \u001b[0;36m_GeneratorContextManager.__enter__\u001b[0;34m(self)\u001b[0m\n\u001b[1;32m    135\u001b[0m \u001b[38;5;28;01mdel\u001b[39;00m \u001b[38;5;28mself\u001b[39m\u001b[38;5;241m.\u001b[39margs, \u001b[38;5;28mself\u001b[39m\u001b[38;5;241m.\u001b[39mkwds, \u001b[38;5;28mself\u001b[39m\u001b[38;5;241m.\u001b[39mfunc\n\u001b[1;32m    136\u001b[0m \u001b[38;5;28;01mtry\u001b[39;00m:\n\u001b[0;32m--> 137\u001b[0m     \u001b[38;5;28;01mreturn\u001b[39;00m \u001b[38;5;28mnext\u001b[39m(\u001b[38;5;28mself\u001b[39m\u001b[38;5;241m.\u001b[39mgen)\n\u001b[1;32m    138\u001b[0m \u001b[38;5;28;01mexcept\u001b[39;00m \u001b[38;5;167;01mStopIteration\u001b[39;00m:\n\u001b[1;32m    139\u001b[0m     \u001b[38;5;28;01mraise\u001b[39;00m \u001b[38;5;167;01mRuntimeError\u001b[39;00m(\u001b[38;5;124m\"\u001b[39m\u001b[38;5;124mgenerator didn\u001b[39m\u001b[38;5;124m'\u001b[39m\u001b[38;5;124mt yield\u001b[39m\u001b[38;5;124m\"\u001b[39m) \u001b[38;5;28;01mfrom\u001b[39;00m \u001b[38;5;28;01mNone\u001b[39;00m\n",
      "File \u001b[0;32m~/.local/lib/python3.11/site-packages/MDAnalysis/lib/util.py:318\u001b[0m, in \u001b[0;36mopenany\u001b[0;34m(datasource, mode, reset)\u001b[0m\n\u001b[1;32m    274\u001b[0m \u001b[38;5;129m@contextmanager\u001b[39m\n\u001b[1;32m    275\u001b[0m \u001b[38;5;28;01mdef\u001b[39;00m \u001b[38;5;21mopenany\u001b[39m(datasource, mode\u001b[38;5;241m=\u001b[39m\u001b[38;5;124m'\u001b[39m\u001b[38;5;124mrt\u001b[39m\u001b[38;5;124m'\u001b[39m, reset\u001b[38;5;241m=\u001b[39m\u001b[38;5;28;01mTrue\u001b[39;00m):\n\u001b[1;32m    276\u001b[0m \u001b[38;5;250m    \u001b[39m\u001b[38;5;124;03m\"\"\"Context manager for :func:`anyopen`.\u001b[39;00m\n\u001b[1;32m    277\u001b[0m \n\u001b[1;32m    278\u001b[0m \u001b[38;5;124;03m    Open the `datasource` and close it when the context of the :keyword:`with`\u001b[39;00m\n\u001b[0;32m   (...)\u001b[0m\n\u001b[1;32m    316\u001b[0m \u001b[38;5;124;03m    :func:`anyopen`\u001b[39;00m\n\u001b[1;32m    317\u001b[0m \u001b[38;5;124;03m    \"\"\"\u001b[39;00m\n\u001b[0;32m--> 318\u001b[0m     stream \u001b[38;5;241m=\u001b[39m anyopen(datasource, mode\u001b[38;5;241m=\u001b[39mmode, reset\u001b[38;5;241m=\u001b[39mreset)\n\u001b[1;32m    319\u001b[0m     \u001b[38;5;28;01mtry\u001b[39;00m:\n\u001b[1;32m    320\u001b[0m         \u001b[38;5;28;01myield\u001b[39;00m stream\n",
      "File \u001b[0;32m~/.local/lib/python3.11/site-packages/MDAnalysis/lib/util.py:398\u001b[0m, in \u001b[0;36manyopen\u001b[0;34m(datasource, mode, reset)\u001b[0m\n\u001b[1;32m    396\u001b[0m \u001b[38;5;28;01mfor\u001b[39;00m ext \u001b[38;5;129;01min\u001b[39;00m (\u001b[38;5;124m'\u001b[39m\u001b[38;5;124mbz2\u001b[39m\u001b[38;5;124m'\u001b[39m, \u001b[38;5;124m'\u001b[39m\u001b[38;5;124mgz\u001b[39m\u001b[38;5;124m'\u001b[39m, \u001b[38;5;124m'\u001b[39m\u001b[38;5;124m'\u001b[39m):  \u001b[38;5;66;03m# file == '' should be last\u001b[39;00m\n\u001b[1;32m    397\u001b[0m     openfunc \u001b[38;5;241m=\u001b[39m read_handlers[ext]\n\u001b[0;32m--> 398\u001b[0m     stream \u001b[38;5;241m=\u001b[39m _get_stream(datasource, openfunc, mode\u001b[38;5;241m=\u001b[39mmode)\n\u001b[1;32m    399\u001b[0m     \u001b[38;5;28;01mif\u001b[39;00m stream \u001b[38;5;129;01mis\u001b[39;00m \u001b[38;5;129;01mnot\u001b[39;00m \u001b[38;5;28;01mNone\u001b[39;00m:\n\u001b[1;32m    400\u001b[0m         \u001b[38;5;28;01mbreak\u001b[39;00m\n",
      "File \u001b[0;32m~/.local/lib/python3.11/site-packages/MDAnalysis/lib/util.py:440\u001b[0m, in \u001b[0;36m_get_stream\u001b[0;34m(filename, openfunction, mode)\u001b[0m\n\u001b[1;32m    435\u001b[0m \u001b[38;5;28;01mexcept\u001b[39;00m (\u001b[38;5;167;01mIOError\u001b[39;00m, \u001b[38;5;167;01mOSError\u001b[39;00m) \u001b[38;5;28;01mas\u001b[39;00m err:\n\u001b[1;32m    436\u001b[0m     \u001b[38;5;66;03m# An exception might be raised due to two reasons, first the openfunction is unable to open the file, in this\u001b[39;00m\n\u001b[1;32m    437\u001b[0m     \u001b[38;5;66;03m# case we have to ignore the error and return None. Second is when openfunction can't open the file because\u001b[39;00m\n\u001b[1;32m    438\u001b[0m     \u001b[38;5;66;03m# either the file isn't there or the permissions don't allow access.\u001b[39;00m\n\u001b[1;32m    439\u001b[0m     \u001b[38;5;28;01mif\u001b[39;00m errno\u001b[38;5;241m.\u001b[39merrorcode[err\u001b[38;5;241m.\u001b[39merrno] \u001b[38;5;129;01min\u001b[39;00m [\u001b[38;5;124m'\u001b[39m\u001b[38;5;124mENOENT\u001b[39m\u001b[38;5;124m'\u001b[39m, \u001b[38;5;124m'\u001b[39m\u001b[38;5;124mEACCES\u001b[39m\u001b[38;5;124m'\u001b[39m]:\n\u001b[0;32m--> 440\u001b[0m         \u001b[38;5;28;01mraise\u001b[39;00m sys\u001b[38;5;241m.\u001b[39mexc_info()[\u001b[38;5;241m1\u001b[39m] \u001b[38;5;28;01mfrom\u001b[39;00m \u001b[38;5;21;01merr\u001b[39;00m\n\u001b[1;32m    441\u001b[0m     \u001b[38;5;28;01mreturn\u001b[39;00m \u001b[38;5;28;01mNone\u001b[39;00m\n\u001b[1;32m    442\u001b[0m \u001b[38;5;28;01mif\u001b[39;00m mode\u001b[38;5;241m.\u001b[39mstartswith(\u001b[38;5;124m'\u001b[39m\u001b[38;5;124mr\u001b[39m\u001b[38;5;124m'\u001b[39m):\n\u001b[1;32m    443\u001b[0m     \u001b[38;5;66;03m# additional check for reading (eg can we uncompress) --- is this needed?\u001b[39;00m\n",
      "File \u001b[0;32m~/.local/lib/python3.11/site-packages/MDAnalysis/lib/util.py:434\u001b[0m, in \u001b[0;36m_get_stream\u001b[0;34m(filename, openfunction, mode)\u001b[0m\n\u001b[1;32m    432\u001b[0m \u001b[38;5;250m\u001b[39m\u001b[38;5;124;03m\"\"\"Return open stream if *filename* can be opened with *openfunction* or else ``None``.\"\"\"\u001b[39;00m\n\u001b[1;32m    433\u001b[0m \u001b[38;5;28;01mtry\u001b[39;00m:\n\u001b[0;32m--> 434\u001b[0m     stream \u001b[38;5;241m=\u001b[39m openfunction(filename, mode\u001b[38;5;241m=\u001b[39mmode)\n\u001b[1;32m    435\u001b[0m \u001b[38;5;28;01mexcept\u001b[39;00m (\u001b[38;5;167;01mIOError\u001b[39;00m, \u001b[38;5;167;01mOSError\u001b[39;00m) \u001b[38;5;28;01mas\u001b[39;00m err:\n\u001b[1;32m    436\u001b[0m     \u001b[38;5;66;03m# An exception might be raised due to two reasons, first the openfunction is unable to open the file, in this\u001b[39;00m\n\u001b[1;32m    437\u001b[0m     \u001b[38;5;66;03m# case we have to ignore the error and return None. Second is when openfunction can't open the file because\u001b[39;00m\n\u001b[1;32m    438\u001b[0m     \u001b[38;5;66;03m# either the file isn't there or the permissions don't allow access.\u001b[39;00m\n\u001b[1;32m    439\u001b[0m     \u001b[38;5;28;01mif\u001b[39;00m errno\u001b[38;5;241m.\u001b[39merrorcode[err\u001b[38;5;241m.\u001b[39merrno] \u001b[38;5;129;01min\u001b[39;00m [\u001b[38;5;124m'\u001b[39m\u001b[38;5;124mENOENT\u001b[39m\u001b[38;5;124m'\u001b[39m, \u001b[38;5;124m'\u001b[39m\u001b[38;5;124mEACCES\u001b[39m\u001b[38;5;124m'\u001b[39m]:\n",
      "File \u001b[0;32m~/.local/lib/python3.11/site-packages/MDAnalysis/lib/picklable_file_io.py:502\u001b[0m, in \u001b[0;36mbz2_pickle_open\u001b[0;34m(name, mode)\u001b[0m\n\u001b[1;32m    499\u001b[0m     \u001b[38;5;28;01mraise\u001b[39;00m \u001b[38;5;167;01mValueError\u001b[39;00m(\u001b[38;5;124m\"\u001b[39m\u001b[38;5;124mOnly read mode (\u001b[39m\u001b[38;5;124m'\u001b[39m\u001b[38;5;124mr\u001b[39m\u001b[38;5;124m'\u001b[39m\u001b[38;5;124m, \u001b[39m\u001b[38;5;124m'\u001b[39m\u001b[38;5;124mrt\u001b[39m\u001b[38;5;124m'\u001b[39m\u001b[38;5;124m, \u001b[39m\u001b[38;5;124m'\u001b[39m\u001b[38;5;124mrb\u001b[39m\u001b[38;5;124m'\u001b[39m\u001b[38;5;124m) \u001b[39m\u001b[38;5;124m\"\u001b[39m\n\u001b[1;32m    500\u001b[0m                      \u001b[38;5;124m\"\u001b[39m\u001b[38;5;124mfiles can be pickled.\u001b[39m\u001b[38;5;124m\"\u001b[39m)\n\u001b[1;32m    501\u001b[0m bz_mode \u001b[38;5;241m=\u001b[39m mode\u001b[38;5;241m.\u001b[39mreplace(\u001b[38;5;124m\"\u001b[39m\u001b[38;5;124mt\u001b[39m\u001b[38;5;124m\"\u001b[39m, \u001b[38;5;124m\"\u001b[39m\u001b[38;5;124m\"\u001b[39m)\n\u001b[0;32m--> 502\u001b[0m binary_file \u001b[38;5;241m=\u001b[39m BZ2Picklable(name, bz_mode)\n\u001b[1;32m    503\u001b[0m \u001b[38;5;28;01mif\u001b[39;00m \u001b[38;5;124m\"\u001b[39m\u001b[38;5;124mt\u001b[39m\u001b[38;5;124m\"\u001b[39m \u001b[38;5;129;01min\u001b[39;00m mode:\n\u001b[1;32m    504\u001b[0m     \u001b[38;5;28;01mreturn\u001b[39;00m TextIOPicklable(binary_file)\n",
      "File \u001b[0;32m~/.local/lib/python3.11/site-packages/MDAnalysis/lib/picklable_file_io.py:283\u001b[0m, in \u001b[0;36mBZ2Picklable.__init__\u001b[0;34m(self, name, mode)\u001b[0m\n\u001b[1;32m    281\u001b[0m \u001b[38;5;28;01mdef\u001b[39;00m \u001b[38;5;21m__init__\u001b[39m(\u001b[38;5;28mself\u001b[39m, name, mode\u001b[38;5;241m=\u001b[39m\u001b[38;5;124m'\u001b[39m\u001b[38;5;124mrb\u001b[39m\u001b[38;5;124m'\u001b[39m):\n\u001b[1;32m    282\u001b[0m     \u001b[38;5;28mself\u001b[39m\u001b[38;5;241m.\u001b[39m_bz_mode \u001b[38;5;241m=\u001b[39m mode\n\u001b[0;32m--> 283\u001b[0m     \u001b[38;5;28msuper\u001b[39m()\u001b[38;5;241m.\u001b[39m\u001b[38;5;21m__init__\u001b[39m(name, mode)\n",
      "File \u001b[0;32m/share/apps/anaconda3/2024.02/lib/python3.11/bz2.py:81\u001b[0m, in \u001b[0;36mBZ2File.__init__\u001b[0;34m(self, filename, mode, compresslevel)\u001b[0m\n\u001b[1;32m     78\u001b[0m     \u001b[38;5;28;01mraise\u001b[39;00m \u001b[38;5;167;01mValueError\u001b[39;00m(\u001b[38;5;124m\"\u001b[39m\u001b[38;5;124mInvalid mode: \u001b[39m\u001b[38;5;132;01m%r\u001b[39;00m\u001b[38;5;124m\"\u001b[39m \u001b[38;5;241m%\u001b[39m (mode,))\n\u001b[1;32m     80\u001b[0m \u001b[38;5;28;01mif\u001b[39;00m \u001b[38;5;28misinstance\u001b[39m(filename, (\u001b[38;5;28mstr\u001b[39m, \u001b[38;5;28mbytes\u001b[39m, os\u001b[38;5;241m.\u001b[39mPathLike)):\n\u001b[0;32m---> 81\u001b[0m     \u001b[38;5;28mself\u001b[39m\u001b[38;5;241m.\u001b[39m_fp \u001b[38;5;241m=\u001b[39m _builtin_open(filename, mode)\n\u001b[1;32m     82\u001b[0m     \u001b[38;5;28mself\u001b[39m\u001b[38;5;241m.\u001b[39m_closefp \u001b[38;5;241m=\u001b[39m \u001b[38;5;28;01mTrue\u001b[39;00m\n\u001b[1;32m     83\u001b[0m     \u001b[38;5;28mself\u001b[39m\u001b[38;5;241m.\u001b[39m_mode \u001b[38;5;241m=\u001b[39m mode_code\n",
      "\u001b[0;31mFileNotFoundError\u001b[0m: [Errno 2] No such file or directory: 'protein.gro'"
     ]
    }
   ],
   "source": [
    "import MDAnalysis as mda\n",
    "from MDAnalysis.analysis.msd import EinsteinMSD\n",
    "import matplotlib.pyplot as plt\n",
    "import os\n",
    "\n",
    "# Set your file paths\n",
    "topology_file = 'protein.gro'  # Use the appropriate topology file (.gro or .pdb)\n",
    "trajectory_file = 'concatenated_unwrapped.xtc'\n",
    "\n",
    "# Load the trajectory\n",
    "u = mda.Universe(topology_file, trajectory_file)\n",
    "\n",
    "# Select atoms: Water Oxygens, Sodium, and Oxygen atoms (modify the selections as needed)\n",
    "water_oxygens = u.select_atoms(\"resname SOL and name OW\")  # Water Oxygens (OW)\n",
    "sodium = u.select_atoms(\"name NA\")  # Sodium ions\n",
    "oxygen = u.select_atoms(\"name O\")  # Oxygen atoms (modify based on your system)\n",
    "\n",
    "# Calculate MSD for each atom group\n",
    "msd_water = EinsteinMSD(water_oxygens, msd_type='xyz', fft=True).run().results.msd\n",
    "msd_sodium = EinsteinMSD(sodium, msd_type='xyz', fft=True).run().results.msd\n",
    "msd_oxygen = EinsteinMSD(oxygen, msd_type='xyz', fft=True).run().results.msd\n",
    "\n",
    "# Get time values (MDAnalysis typically uses frames, so ensure your time step is correct)\n",
    "times = u.trajectory.times  # This will give the time for each frame\n",
    "\n",
    "# Plot the results\n",
    "plt.figure(figsize=(10, 6))\n",
    "plt.plot(times, msd_water, label='Water Oxygens')\n",
    "plt.plot(times, msd_sodium, label='Sodium')\n",
    "plt.plot(times, msd_oxygen, label='Oxygen')\n",
    "\n",
    "# Labels and title\n",
    "plt.xlabel('Time (ps)', fontsize=14)\n",
    "plt.ylabel('Mean Squared Displacement (nm^2)', fontsize=14)\n",
    "plt.title('MSD vs Time for Water Oxygens, Sodium, and Oxygen', fontsize=16)\n",
    "plt.legend()\n",
    "\n",
    "# Save the plot to the Figures folder\n",
    "output_dir = 'Figures'\n",
    "if not os.path.exists(output_dir):\n",
    "    os.makedirs(output_dir)\n",
    "plt.savefig(os.path.join(output_dir, 'msd_vs_time.png'))\n",
    "\n",
    "# Show the plot\n",
    "plt.grid(True)\n",
    "plt.show()\n"
   ]
  },
  {
   "cell_type": "code",
   "execution_count": 4,
   "id": "813e566d-0c9c-470d-8762-7f4470cbc336",
   "metadata": {},
   "outputs": [
    {
     "ename": "ModuleNotFoundError",
     "evalue": "No module named 'mdtraj'",
     "output_type": "error",
     "traceback": [
      "\u001b[0;31m---------------------------------------------------------------------------\u001b[0m",
      "\u001b[0;31mModuleNotFoundError\u001b[0m                       Traceback (most recent call last)",
      "Cell \u001b[0;32mIn[4], line 1\u001b[0m\n\u001b[0;32m----> 1\u001b[0m \u001b[38;5;28;01mimport\u001b[39;00m \u001b[38;5;21;01mmdtraj\u001b[39;00m \u001b[38;5;28;01mas\u001b[39;00m \u001b[38;5;21;01mmd\u001b[39;00m\n\u001b[1;32m      2\u001b[0m \u001b[38;5;28;01mimport\u001b[39;00m \u001b[38;5;21;01mmatplotlib\u001b[39;00m\u001b[38;5;21;01m.\u001b[39;00m\u001b[38;5;21;01mpyplot\u001b[39;00m \u001b[38;5;28;01mas\u001b[39;00m \u001b[38;5;21;01mplt\u001b[39;00m\n\u001b[1;32m      3\u001b[0m \u001b[38;5;28;01mimport\u001b[39;00m \u001b[38;5;21;01mmdtraj\u001b[39;00m \u001b[38;5;28;01mas\u001b[39;00m \u001b[38;5;21;01mmd\u001b[39;00m\n",
      "\u001b[0;31mModuleNotFoundError\u001b[0m: No module named 'mdtraj'"
     ]
    }
   ],
   "source": [
    "import mdtraj as md\n",
    "import matplotlib.pyplot as plt\n",
    "import mdtraj as md\n",
    "import os\n",
    "\n",
    "# Load the trajectory with MDTraj\n",
    "trajectory = md.load('concatenated_unwrapped.xtc', top='protein.gro')\n",
    "\n",
    "# Select atoms for water oxygens, sodium, and oxygen (modify based on your system)\n",
    "water_oxygens = trajectory.top.select(\"water and name O\")\n",
    "sodium = trajectory.top.select(\"name NA\")\n",
    "oxygen = trajectory.top.select(\"name O\")  # Modify the selection as needed\n",
    "\n",
    "# Compute the MSD for each group\n",
    "msd_water = md.compute_msd(trajectory.atom_slice(water_oxygens))\n",
    "msd_sodium = md.compute_msd(trajectory.atom_slice(sodium))\n",
    "msd_oxygen = md.compute_msd(trajectory.atom_slice(oxygen))\n",
    "\n",
    "# Get time (assuming uniform timestep)\n",
    "time = np.arange(len(msd_water)) * trajectory.timestep\n",
    "\n",
    "# Plot the results\n",
    "plt.figure(figsize=(10, 6))\n",
    "plt.plot(time, msd_water, label='Water Oxygens')\n",
    "plt.plot(time, msd_sodium, label='Sodium')\n",
    "plt.plot(time, msd_oxygen, label='Oxygen')\n",
    "\n",
    "# Labels and title\n",
    "plt.xlabel('Time (ps)', fontsize=14)\n",
    "plt.ylabel('Mean Squared Displacement (nm^2)', fontsize=14)\n",
    "plt.title('MSD vs Time for Water Oxygens, Sodium, and Oxygen', fontsize=16)\n",
    "plt.legend()\n",
    "\n",
    "# Save the plot to the Figures folder\n",
    "output_dir = 'Figures'\n",
    "if not os.path.exists(output_dir):\n",
    "    os.makedirs(output_dir)\n",
    "plt.savefig(os.path.join(output_dir, 'msd_vs_time.png'))\n",
    "\n",
    "# Show the plot\n",
    "plt.grid(True)\n",
    "plt.show()\n"
   ]
  },
  {
   "cell_type": "code",
   "execution_count": 7,
   "id": "d2dee832-6769-4e54-b91b-2449913f0b21",
   "metadata": {},
   "outputs": [
    {
     "name": "stderr",
     "output_type": "stream",
     "text": [
      "0it [00:00, ?it/s]\n",
      "/home/st5430/.local/lib/python3.11/site-packages/MDAnalysis/analysis/msd.py:412: RuntimeWarning: Mean of empty slice.\n",
      "  self.results.timeseries = self.results.msds_by_particle.mean(axis=1)\n",
      "/share/apps/anaconda3/2024.02/lib/python3.11/site-packages/numpy/core/_methods.py:121: RuntimeWarning: invalid value encountered in divide\n",
      "  ret = um.true_divide(\n"
     ]
    },
    {
     "ename": "AttributeError",
     "evalue": "'Results' object has no attribute 'msd'",
     "output_type": "error",
     "traceback": [
      "\u001b[0;31m---------------------------------------------------------------------------\u001b[0m",
      "\u001b[0;31mKeyError\u001b[0m                                  Traceback (most recent call last)",
      "File \u001b[0;32m~/.local/lib/python3.11/site-packages/MDAnalysis/analysis/base.py:204\u001b[0m, in \u001b[0;36mResults.__getattr__\u001b[0;34m(self, attr)\u001b[0m\n\u001b[1;32m    203\u001b[0m \u001b[38;5;28;01mtry\u001b[39;00m:\n\u001b[0;32m--> 204\u001b[0m     \u001b[38;5;28;01mreturn\u001b[39;00m \u001b[38;5;28mself\u001b[39m[attr]\n\u001b[1;32m    205\u001b[0m \u001b[38;5;28;01mexcept\u001b[39;00m \u001b[38;5;167;01mKeyError\u001b[39;00m \u001b[38;5;28;01mas\u001b[39;00m err:\n",
      "File \u001b[0;32m/share/apps/anaconda3/2024.02/lib/python3.11/collections/__init__.py:1126\u001b[0m, in \u001b[0;36mUserDict.__getitem__\u001b[0;34m(self, key)\u001b[0m\n\u001b[1;32m   1125\u001b[0m     \u001b[38;5;28;01mreturn\u001b[39;00m \u001b[38;5;28mself\u001b[39m\u001b[38;5;241m.\u001b[39m\u001b[38;5;18m__class__\u001b[39m\u001b[38;5;241m.\u001b[39m\u001b[38;5;21m__missing__\u001b[39m(\u001b[38;5;28mself\u001b[39m, key)\n\u001b[0;32m-> 1126\u001b[0m \u001b[38;5;28;01mraise\u001b[39;00m \u001b[38;5;167;01mKeyError\u001b[39;00m(key)\n",
      "\u001b[0;31mKeyError\u001b[0m: 'msd'",
      "\nThe above exception was the direct cause of the following exception:\n",
      "\u001b[0;31mAttributeError\u001b[0m                            Traceback (most recent call last)",
      "Cell \u001b[0;32mIn[7], line 30\u001b[0m\n\u001b[1;32m     27\u001b[0m     \u001b[38;5;28;01mreturn\u001b[39;00m msd_analysis\u001b[38;5;241m.\u001b[39mtimes, msd_analysis\u001b[38;5;241m.\u001b[39mresults\u001b[38;5;241m.\u001b[39mmsd\n\u001b[1;32m     29\u001b[0m \u001b[38;5;66;03m# Compute MSD for water oxygens, sodium, and oxygen atoms\u001b[39;00m\n\u001b[0;32m---> 30\u001b[0m time_water_ox, msd_water_ox \u001b[38;5;241m=\u001b[39m compute_msd(water_oxygens)\n\u001b[1;32m     31\u001b[0m time_sodium, msd_sodium \u001b[38;5;241m=\u001b[39m compute_msd(sodium)\n\u001b[1;32m     32\u001b[0m time_oxygen, msd_oxygen \u001b[38;5;241m=\u001b[39m compute_msd(oxygens)\n",
      "Cell \u001b[0;32mIn[7], line 27\u001b[0m, in \u001b[0;36mcompute_msd\u001b[0;34m(atom_selection)\u001b[0m\n\u001b[1;32m     25\u001b[0m msd_analysis \u001b[38;5;241m=\u001b[39m EinsteinMSD(atom_selection, select\u001b[38;5;241m=\u001b[39m\u001b[38;5;124m'\u001b[39m\u001b[38;5;124mall\u001b[39m\u001b[38;5;124m'\u001b[39m, msd_type\u001b[38;5;241m=\u001b[39m\u001b[38;5;124m'\u001b[39m\u001b[38;5;124mxyz\u001b[39m\u001b[38;5;124m'\u001b[39m, fft\u001b[38;5;241m=\u001b[39m\u001b[38;5;28;01mTrue\u001b[39;00m)\n\u001b[1;32m     26\u001b[0m msd_analysis\u001b[38;5;241m.\u001b[39mrun()\n\u001b[0;32m---> 27\u001b[0m \u001b[38;5;28;01mreturn\u001b[39;00m msd_analysis\u001b[38;5;241m.\u001b[39mtimes, msd_analysis\u001b[38;5;241m.\u001b[39mresults\u001b[38;5;241m.\u001b[39mmsd\n",
      "File \u001b[0;32m~/.local/lib/python3.11/site-packages/MDAnalysis/analysis/base.py:206\u001b[0m, in \u001b[0;36mResults.__getattr__\u001b[0;34m(self, attr)\u001b[0m\n\u001b[1;32m    204\u001b[0m     \u001b[38;5;28;01mreturn\u001b[39;00m \u001b[38;5;28mself\u001b[39m[attr]\n\u001b[1;32m    205\u001b[0m \u001b[38;5;28;01mexcept\u001b[39;00m \u001b[38;5;167;01mKeyError\u001b[39;00m \u001b[38;5;28;01mas\u001b[39;00m err:\n\u001b[0;32m--> 206\u001b[0m     \u001b[38;5;28;01mraise\u001b[39;00m \u001b[38;5;167;01mAttributeError\u001b[39;00m(\u001b[38;5;124m\"\u001b[39m\u001b[38;5;124m'\u001b[39m\u001b[38;5;124mResults\u001b[39m\u001b[38;5;124m'\u001b[39m\u001b[38;5;124m object has no \u001b[39m\u001b[38;5;124m\"\u001b[39m\n\u001b[1;32m    207\u001b[0m                          \u001b[38;5;124mf\u001b[39m\u001b[38;5;124m\"\u001b[39m\u001b[38;5;124mattribute \u001b[39m\u001b[38;5;124m'\u001b[39m\u001b[38;5;132;01m{\u001b[39;00mattr\u001b[38;5;132;01m}\u001b[39;00m\u001b[38;5;124m'\u001b[39m\u001b[38;5;124m\"\u001b[39m) \u001b[38;5;28;01mfrom\u001b[39;00m \u001b[38;5;21;01merr\u001b[39;00m\n",
      "\u001b[0;31mAttributeError\u001b[0m: 'Results' object has no attribute 'msd'"
     ]
    }
   ],
   "source": [
    "import MDAnalysis as mda\n",
    "from MDAnalysis.analysis.msd import EinsteinMSD\n",
    "import matplotlib.pyplot as plt\n",
    "import os\n",
    "\n",
    "# Paths to the files\n",
    "trajectory_file = \"step5_1.gro\"  # Replace with your trajectory file\n",
    "topology = \"concatenated_unwrapped.xtc\"\n",
    "figures_folder = \"Figures\"\n",
    "\n",
    "# Create the Figures folder if it doesn't exist\n",
    "if not os.path.exists(figures_folder):\n",
    "    os.makedirs(figures_folder)\n",
    "\n",
    "# Load the Universe with the trajectory and topology\n",
    "u = mda.Universe(\"step5_1.gro\", \"concatenated_unwrapped.xtc\")\n",
    "\n",
    "# Select atoms for Water Oxygen, Sodium, and Oxygen (generic)\n",
    "water_oxygens = u.select_atoms(\"name OW\")  # OW is typical for water oxygens in GROMACS\n",
    "sodium = u.select_atoms(\"name NA\")  # Assuming sodium atoms are labeled as NA\n",
    "oxygens = u.select_atoms(\"name O\")  # Generic Oxygen atoms, change if necessary\n",
    "\n",
    "# Function to compute MSD for a given atom selection\n",
    "def compute_msd(atom_selection):\n",
    "    msd_analysis = EinsteinMSD(atom_selection, select='all', msd_type='xyz', fft=True)\n",
    "    msd_analysis.run()\n",
    "    return msd_analysis.times, msd_analysis.results.msd\n",
    "\n",
    "# Compute MSD for water oxygens, sodium, and oxygen atoms\n",
    "time_water_ox, msd_water_ox = compute_msd(water_oxygens)\n",
    "time_sodium, msd_sodium = compute_msd(sodium)\n",
    "time_oxygen, msd_oxygen = compute_msd(oxygens)\n",
    "\n",
    "# Plot the MSD vs Time for all three atom types\n",
    "plt.figure(figsize=(8, 6))\n",
    "plt.plot(time_water_ox, msd_water_ox, label='Water Oxygens', color='b')\n",
    "plt.plot(time_sodium, msd_sodium, label='Sodium', color='r')\n",
    "plt.plot(time_oxygen, msd_oxygen, label='Oxygen', color='g')\n",
    "plt.xlabel(\"Time (ps)\", fontsize=14)\n",
    "plt.ylabel(\"MSD (nm^2)\", fontsize=14)\n",
    "plt.title(\"Mean Squared Displacement vs Time\", fontsize=16)\n",
    "plt.grid(True)\n",
    "plt.legend()\n",
    "\n",
    "# Save the plot\n",
    "plt.savefig(os.path.join(figures_folder, \"msd_vs_time.png\"))\n",
    "plt.show()\n"
   ]
  },
  {
   "cell_type": "code",
   "execution_count": 5,
   "id": "0bbd0cb3-1e8b-488c-83f4-e3526d11f889",
   "metadata": {},
   "outputs": [
    {
     "name": "stdout",
     "output_type": "stream",
     "text": [
      "Defaulting to user installation because normal site-packages is not writeable\n",
      "Collecting tidynamics\n",
      "  Downloading tidynamics-1.1.2-py3-none-any.whl.metadata (3.8 kB)\n",
      "Requirement already satisfied: numpy in /share/apps/anaconda3/2024.02/lib/python3.11/site-packages (from tidynamics) (1.26.4)\n",
      "Downloading tidynamics-1.1.2-py3-none-any.whl (6.5 kB)\n",
      "Installing collected packages: tidynamics\n",
      "Successfully installed tidynamics-1.1.2\n",
      "Note: you may need to restart the kernel to use updated packages.\n"
     ]
    }
   ],
   "source": [
    "pip install tidynamics\n"
   ]
  },
  {
   "cell_type": "code",
   "execution_count": 6,
   "id": "b2ae3efc-d5d4-483b-bd57-dd73aa95c95c",
   "metadata": {},
   "outputs": [],
   "source": [
    "def compute_msd(atom_selection):\n",
    "    msd_analysis = EinsteinMSD(atom_selection, select='all', msd_type='xyz', fft=False)\n",
    "    msd_analysis.run()\n",
    "    return msd_analysis.times, msd_analysis.results.msd\n"
   ]
  },
  {
   "cell_type": "code",
   "execution_count": 8,
   "id": "b6e75dc0-118e-45b6-a5f9-df4302b23fda",
   "metadata": {},
   "outputs": [
    {
     "name": "stderr",
     "output_type": "stream",
     "text": [
      "0it [00:00, ?it/s]\n"
     ]
    },
    {
     "ename": "AttributeError",
     "evalue": "'Results' object has no attribute 'msd'",
     "output_type": "error",
     "traceback": [
      "\u001b[0;31m---------------------------------------------------------------------------\u001b[0m",
      "\u001b[0;31mKeyError\u001b[0m                                  Traceback (most recent call last)",
      "File \u001b[0;32m~/.local/lib/python3.11/site-packages/MDAnalysis/analysis/base.py:204\u001b[0m, in \u001b[0;36mResults.__getattr__\u001b[0;34m(self, attr)\u001b[0m\n\u001b[1;32m    203\u001b[0m \u001b[38;5;28;01mtry\u001b[39;00m:\n\u001b[0;32m--> 204\u001b[0m     \u001b[38;5;28;01mreturn\u001b[39;00m \u001b[38;5;28mself\u001b[39m[attr]\n\u001b[1;32m    205\u001b[0m \u001b[38;5;28;01mexcept\u001b[39;00m \u001b[38;5;167;01mKeyError\u001b[39;00m \u001b[38;5;28;01mas\u001b[39;00m err:\n",
      "File \u001b[0;32m/share/apps/anaconda3/2024.02/lib/python3.11/collections/__init__.py:1126\u001b[0m, in \u001b[0;36mUserDict.__getitem__\u001b[0;34m(self, key)\u001b[0m\n\u001b[1;32m   1125\u001b[0m     \u001b[38;5;28;01mreturn\u001b[39;00m \u001b[38;5;28mself\u001b[39m\u001b[38;5;241m.\u001b[39m\u001b[38;5;18m__class__\u001b[39m\u001b[38;5;241m.\u001b[39m\u001b[38;5;21m__missing__\u001b[39m(\u001b[38;5;28mself\u001b[39m, key)\n\u001b[0;32m-> 1126\u001b[0m \u001b[38;5;28;01mraise\u001b[39;00m \u001b[38;5;167;01mKeyError\u001b[39;00m(key)\n",
      "\u001b[0;31mKeyError\u001b[0m: 'msd'",
      "\nThe above exception was the direct cause of the following exception:\n",
      "\u001b[0;31mAttributeError\u001b[0m                            Traceback (most recent call last)",
      "Cell \u001b[0;32mIn[8], line 8\u001b[0m\n\u001b[1;32m      5\u001b[0m     \u001b[38;5;28;01mreturn\u001b[39;00m msd_analysis\u001b[38;5;241m.\u001b[39mtimes, msd_analysis\u001b[38;5;241m.\u001b[39mresults\u001b[38;5;241m.\u001b[39mmsd\n\u001b[1;32m      7\u001b[0m \u001b[38;5;66;03m# Compute MSD for water oxygens, sodium, and oxygen atoms\u001b[39;00m\n\u001b[0;32m----> 8\u001b[0m time_water_ox, msd_water_ox \u001b[38;5;241m=\u001b[39m compute_msd(water_oxygens)\n\u001b[1;32m      9\u001b[0m time_sodium, msd_sodium \u001b[38;5;241m=\u001b[39m compute_msd(sodium)\n\u001b[1;32m     10\u001b[0m time_oxygen, msd_oxygen \u001b[38;5;241m=\u001b[39m compute_msd(oxygens)\n",
      "Cell \u001b[0;32mIn[8], line 5\u001b[0m, in \u001b[0;36mcompute_msd\u001b[0;34m(atom_selection)\u001b[0m\n\u001b[1;32m      3\u001b[0m msd_analysis \u001b[38;5;241m=\u001b[39m EinsteinMSD(atom_selection, select\u001b[38;5;241m=\u001b[39m\u001b[38;5;124m'\u001b[39m\u001b[38;5;124mall\u001b[39m\u001b[38;5;124m'\u001b[39m, msd_type\u001b[38;5;241m=\u001b[39m\u001b[38;5;124m'\u001b[39m\u001b[38;5;124mxyz\u001b[39m\u001b[38;5;124m'\u001b[39m, fft\u001b[38;5;241m=\u001b[39m\u001b[38;5;28;01mTrue\u001b[39;00m)\n\u001b[1;32m      4\u001b[0m msd_analysis\u001b[38;5;241m.\u001b[39mrun()\n\u001b[0;32m----> 5\u001b[0m \u001b[38;5;28;01mreturn\u001b[39;00m msd_analysis\u001b[38;5;241m.\u001b[39mtimes, msd_analysis\u001b[38;5;241m.\u001b[39mresults\u001b[38;5;241m.\u001b[39mmsd\n",
      "File \u001b[0;32m~/.local/lib/python3.11/site-packages/MDAnalysis/analysis/base.py:206\u001b[0m, in \u001b[0;36mResults.__getattr__\u001b[0;34m(self, attr)\u001b[0m\n\u001b[1;32m    204\u001b[0m     \u001b[38;5;28;01mreturn\u001b[39;00m \u001b[38;5;28mself\u001b[39m[attr]\n\u001b[1;32m    205\u001b[0m \u001b[38;5;28;01mexcept\u001b[39;00m \u001b[38;5;167;01mKeyError\u001b[39;00m \u001b[38;5;28;01mas\u001b[39;00m err:\n\u001b[0;32m--> 206\u001b[0m     \u001b[38;5;28;01mraise\u001b[39;00m \u001b[38;5;167;01mAttributeError\u001b[39;00m(\u001b[38;5;124m\"\u001b[39m\u001b[38;5;124m'\u001b[39m\u001b[38;5;124mResults\u001b[39m\u001b[38;5;124m'\u001b[39m\u001b[38;5;124m object has no \u001b[39m\u001b[38;5;124m\"\u001b[39m\n\u001b[1;32m    207\u001b[0m                          \u001b[38;5;124mf\u001b[39m\u001b[38;5;124m\"\u001b[39m\u001b[38;5;124mattribute \u001b[39m\u001b[38;5;124m'\u001b[39m\u001b[38;5;132;01m{\u001b[39;00mattr\u001b[38;5;132;01m}\u001b[39;00m\u001b[38;5;124m'\u001b[39m\u001b[38;5;124m\"\u001b[39m) \u001b[38;5;28;01mfrom\u001b[39;00m \u001b[38;5;21;01merr\u001b[39;00m\n",
      "\u001b[0;31mAttributeError\u001b[0m: 'Results' object has no attribute 'msd'"
     ]
    }
   ],
   "source": [
    "# Function to compute MSD for a given atom selection\n",
    "def compute_msd(atom_selection):\n",
    "    msd_analysis = EinsteinMSD(atom_selection, select='all', msd_type='xyz', fft=True)\n",
    "    msd_analysis.run()\n",
    "    return msd_analysis.times, msd_analysis.results.msd\n",
    "\n",
    "# Compute MSD for water oxygens, sodium, and oxygen atoms\n",
    "time_water_ox, msd_water_ox = compute_msd(water_oxygens)\n",
    "time_sodium, msd_sodium = compute_msd(sodium)\n",
    "time_oxygen, msd_oxygen = compute_msd(oxygens)\n",
    "\n",
    "# Plot the MSD vs Time for all three atom types\n",
    "plt.figure(figsize=(8, 6))\n",
    "plt.plot(time_water_ox, msd_water_ox, label='Water Oxygens', color='b')\n",
    "plt.plot(time_sodium, msd_sodium, label='Sodium', color='r')\n",
    "plt.plot(time_oxygen, msd_oxygen, label='Oxygen', color='g')\n",
    "plt.xlabel(\"Time (ps)\", fontsize=14)\n",
    "plt.ylabel(\"MSD (nm^2)\", fontsize=14)\n",
    "plt.title(\"Mean Squared Displacement vs Time\", fontsize=16)\n",
    "plt.grid(True)\n",
    "plt.legend()\n",
    "\n",
    "# Save the plot\n",
    "plt.savefig(os.path.join(figures_folder, \"msd_vs_time.png\"))\n",
    "plt.show()"
   ]
  },
  {
   "cell_type": "code",
   "execution_count": 9,
   "id": "eb646b97-01ab-4724-8a2a-5020be01c02c",
   "metadata": {},
   "outputs": [
    {
     "ename": "AttributeError",
     "evalue": "'Universe' object has no attribute 'select'",
     "output_type": "error",
     "traceback": [
      "\u001b[0;31m---------------------------------------------------------------------------\u001b[0m",
      "\u001b[0;31mAttributeError\u001b[0m                            Traceback (most recent call last)",
      "Cell \u001b[0;32mIn[9], line 15\u001b[0m\n\u001b[1;32m     13\u001b[0m \u001b[38;5;66;03m# Select atoms for Water Oxygen, Sodium, and Oxygen\u001b[39;00m\n\u001b[1;32m     14\u001b[0m water_oxygens \u001b[38;5;241m=\u001b[39m u\u001b[38;5;241m.\u001b[39mselect_atoms(\u001b[38;5;124m\"\u001b[39m\u001b[38;5;124mname OW\u001b[39m\u001b[38;5;124m\"\u001b[39m)\n\u001b[0;32m---> 15\u001b[0m sodium \u001b[38;5;241m=\u001b[39m u\u001b[38;5;241m.\u001b[39mselect\n",
      "\u001b[0;31mAttributeError\u001b[0m: 'Universe' object has no attribute 'select'"
     ]
    }
   ],
   "source": [
    "import numpy as np\n",
    "import MDAnalysis as mda\n",
    "import matplotlib.pyplot as plt\n",
    "\n",
    "def compute_manual_msd(atom_selection, trajectory):\n",
    "    n_frames = len(trajectory)\n",
    "    msd = np.zeros(n_frames)\n",
    "    for i, ts in enumerate(trajectory):\n",
    "        displacement = atom_selection.positions - atom_selection.positions[0]\n",
    "        msd[i] = np.mean(np.sum(displacement ** 2, axis=1))\n",
    "    return msd\n",
    "\n",
    "# Select atoms for Water Oxygen, Sodium, and Oxygen\n",
    "water_oxygens = u.select_atoms(\"name OW\")\n",
    "sodium = u.select\n"
   ]
  },
  {
   "cell_type": "code",
   "execution_count": 10,
   "id": "0dd1bd61-da93-41e3-8b70-a7bee8e4abff",
   "metadata": {},
   "outputs": [],
   "source": [
    "# Select atoms for Water Oxygen, Sodium, and Oxygen\n",
    "water_oxygens = u.select_atoms(\"name OW\")  # OW is typical for water oxygens in GROMACS\n",
    "sodium = u.select_atoms(\"name NA\")  # Assuming sodium atoms are labeled as NA\n",
    "oxygens = u.select_atoms(\"name O\")  # Generic Oxygen atoms, adjust the selection if necessary\n"
   ]
  },
  {
   "cell_type": "code",
   "execution_count": 11,
   "id": "93ee1db9-8e56-4004-998c-a2b5f9ad10a7",
   "metadata": {},
   "outputs": [
    {
     "ename": "NameError",
     "evalue": "name 'msd_sodium' is not defined",
     "output_type": "error",
     "traceback": [
      "\u001b[0;31m---------------------------------------------------------------------------\u001b[0m",
      "\u001b[0;31mNameError\u001b[0m                                 Traceback (most recent call last)",
      "Cell \u001b[0;32mIn[11], line 4\u001b[0m\n\u001b[1;32m      1\u001b[0m \u001b[38;5;28;01mimport\u001b[39;00m \u001b[38;5;21;01mmatplotlib\u001b[39;00m\u001b[38;5;21;01m.\u001b[39;00m\u001b[38;5;21;01mpyplot\u001b[39;00m \u001b[38;5;28;01mas\u001b[39;00m \u001b[38;5;21;01mplt\u001b[39;00m\n\u001b[1;32m      3\u001b[0m \u001b[38;5;66;03m# Assuming time is a simple range based on trajectory frames\u001b[39;00m\n\u001b[0;32m----> 4\u001b[0m time \u001b[38;5;241m=\u001b[39m np\u001b[38;5;241m.\u001b[39marange(\u001b[38;5;28mlen\u001b[39m(msd_sodium))  \u001b[38;5;66;03m# Adjust based on your time steps if needed\u001b[39;00m\n\u001b[1;32m      6\u001b[0m \u001b[38;5;66;03m# Create the plot\u001b[39;00m\n\u001b[1;32m      7\u001b[0m plt\u001b[38;5;241m.\u001b[39mfigure(figsize\u001b[38;5;241m=\u001b[39m(\u001b[38;5;241m8\u001b[39m, \u001b[38;5;241m6\u001b[39m))\n",
      "\u001b[0;31mNameError\u001b[0m: name 'msd_sodium' is not defined"
     ]
    }
   ],
   "source": [
    "import matplotlib.pyplot as plt\n",
    "\n",
    "# Assuming time is a simple range based on trajectory frames\n",
    "time = np.arange(len(msd_sodium))  # Adjust based on your time steps if needed\n",
    "\n",
    "# Create the plot\n",
    "plt.figure(figsize=(8, 6))\n",
    "\n",
    "# Plot the MSD for Sodium and Water Oxygens (Oxygen is same as water oxygen)\n",
    "plt.plot(time, msd_sodium, label='Sodium', color='r')\n",
    "plt.plot(time, msd_water_oxygen, label='Water Oxygens', color='b')\n",
    "\n",
    "# Add labels, title, grid, and legend\n",
    "plt.xlabel('Time (ps)', fontsize=14)\n",
    "plt.ylabel('Mean Squared Displacement (nm^2)', fontsize=14)\n",
    "plt.title('MSD vs Time', fontsize=16)\n",
    "plt.legend()\n",
    "plt.grid(True)\n",
    "\n",
    "# Save the figure\n",
    "plt.savefig('../Figures/msd_vs_time.png')\n",
    "\n",
    "# Show the plot\n",
    "plt.show()\n"
   ]
  },
  {
   "cell_type": "code",
   "execution_count": null,
   "id": "51c5a1d9-f304-4227-8953-4803f1df9305",
   "metadata": {},
   "outputs": [],
   "source": []
  }
 ],
 "metadata": {
  "kernelspec": {
   "display_name": "Python 3 (ipykernel)",
   "language": "python",
   "name": "python3"
  },
  "language_info": {
   "codemirror_mode": {
    "name": "ipython",
    "version": 3
   },
   "file_extension": ".py",
   "mimetype": "text/x-python",
   "name": "python",
   "nbconvert_exporter": "python",
   "pygments_lexer": "ipython3",
   "version": "3.11.7"
  }
 },
 "nbformat": 4,
 "nbformat_minor": 5
}
