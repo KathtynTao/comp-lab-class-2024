{
 "cells": [
  {
   "cell_type": "code",
   "execution_count": 1,
   "id": "95cbe444-1a45-4ab2-ae9b-ac02608234ad",
   "metadata": {},
   "outputs": [
    {
     "name": "stdout",
     "output_type": "stream",
     "text": [
      "\u001b[0m\u001b[01;34mAnalysis\u001b[0m/      \u001b[01;34mData\u001b[0m/     \u001b[01;34mInput\u001b[0m/     \u001b[01;34mSetup\u001b[0m/\n",
      "Assignment.md  \u001b[01;34mFigures\u001b[0m/  README.md  Untitled.ipynb\n"
     ]
    }
   ],
   "source": [
    "ls"
   ]
  },
  {
   "cell_type": "code",
   "execution_count": 2,
   "id": "c513a0df-1a74-403f-b388-d7cef8c818ad",
   "metadata": {},
   "outputs": [],
   "source": [
    "import pandas as pd\n",
    "import matplotlib.pyplot as plt\n",
    "import numpy as np"
   ]
  },
  {
   "cell_type": "code",
   "execution_count": 4,
   "id": "7e5b67d7-1f5a-4938-998e-bd12d8b79952",
   "metadata": {},
   "outputs": [],
   "source": [
    "file_path ='comp-lab-class/#2JOF_newbox.gro.1#'\n"
   ]
  },
  {
   "cell_type": "code",
   "execution_count": 5,
   "id": "0291bf01-d71c-48ac-91a4-2e2c53720e71",
   "metadata": {},
   "outputs": [
    {
     "ename": "FileNotFoundError",
     "evalue": "[Errno 2] No such file or directory: 'comp-lab-class/#2JOF_newbox.gro.1#'",
     "output_type": "error",
     "traceback": [
      "\u001b[0;31m---------------------------------------------------------------------------\u001b[0m",
      "\u001b[0;31mFileNotFoundError\u001b[0m                         Traceback (most recent call last)",
      "Cell \u001b[0;32mIn [5], line 19\u001b[0m\n\u001b[1;32m     16\u001b[0m     \u001b[38;5;28;01mreturn\u001b[39;00m data\n\u001b[1;32m     18\u001b[0m \u001b[38;5;66;03m# Load the data\u001b[39;00m\n\u001b[0;32m---> 19\u001b[0m data \u001b[38;5;241m=\u001b[39m \u001b[43mread_data\u001b[49m\u001b[43m(\u001b[49m\u001b[43mfile_path\u001b[49m\u001b[43m)\u001b[49m\n\u001b[1;32m     21\u001b[0m \u001b[38;5;66;03m# Display the first few rows to understand its structure\u001b[39;00m\n\u001b[1;32m     22\u001b[0m data\u001b[38;5;241m.\u001b[39mhead()\n",
      "Cell \u001b[0;32mIn [5], line 3\u001b[0m, in \u001b[0;36mread_data\u001b[0;34m(file_path)\u001b[0m\n\u001b[1;32m      1\u001b[0m \u001b[38;5;28;01mdef\u001b[39;00m \u001b[38;5;21mread_data\u001b[39m(file_path):\n\u001b[1;32m      2\u001b[0m     \u001b[38;5;66;03m# Read the file, assuming that the header starts after lines that begin with '@'\u001b[39;00m\n\u001b[0;32m----> 3\u001b[0m     \u001b[38;5;28;01mwith\u001b[39;00m \u001b[38;5;28;43mopen\u001b[39;49m\u001b[43m(\u001b[49m\u001b[43mfile_path\u001b[49m\u001b[43m,\u001b[49m\u001b[43m \u001b[49m\u001b[38;5;124;43m'\u001b[39;49m\u001b[38;5;124;43mr\u001b[39;49m\u001b[38;5;124;43m'\u001b[39;49m\u001b[43m)\u001b[49m \u001b[38;5;28;01mas\u001b[39;00m file:\n\u001b[1;32m      4\u001b[0m         lines \u001b[38;5;241m=\u001b[39m file\u001b[38;5;241m.\u001b[39mreadlines()\n\u001b[1;32m      6\u001b[0m     \u001b[38;5;66;03m# Identify the line where data starts (typically after '@' lines)\u001b[39;00m\n",
      "File \u001b[0;32m/ext3/miniconda3/lib/python3.9/site-packages/IPython/core/interactiveshell.py:282\u001b[0m, in \u001b[0;36m_modified_open\u001b[0;34m(file, *args, **kwargs)\u001b[0m\n\u001b[1;32m    275\u001b[0m \u001b[38;5;28;01mif\u001b[39;00m file \u001b[38;5;129;01min\u001b[39;00m {\u001b[38;5;241m0\u001b[39m, \u001b[38;5;241m1\u001b[39m, \u001b[38;5;241m2\u001b[39m}:\n\u001b[1;32m    276\u001b[0m     \u001b[38;5;28;01mraise\u001b[39;00m \u001b[38;5;167;01mValueError\u001b[39;00m(\n\u001b[1;32m    277\u001b[0m         \u001b[38;5;124mf\u001b[39m\u001b[38;5;124m\"\u001b[39m\u001b[38;5;124mIPython won\u001b[39m\u001b[38;5;124m'\u001b[39m\u001b[38;5;124mt let you open fd=\u001b[39m\u001b[38;5;132;01m{\u001b[39;00mfile\u001b[38;5;132;01m}\u001b[39;00m\u001b[38;5;124m by default \u001b[39m\u001b[38;5;124m\"\u001b[39m\n\u001b[1;32m    278\u001b[0m         \u001b[38;5;124m\"\u001b[39m\u001b[38;5;124mas it is likely to crash IPython. If you know what you are doing, \u001b[39m\u001b[38;5;124m\"\u001b[39m\n\u001b[1;32m    279\u001b[0m         \u001b[38;5;124m\"\u001b[39m\u001b[38;5;124myou can use builtins\u001b[39m\u001b[38;5;124m'\u001b[39m\u001b[38;5;124m open.\u001b[39m\u001b[38;5;124m\"\u001b[39m\n\u001b[1;32m    280\u001b[0m     )\n\u001b[0;32m--> 282\u001b[0m \u001b[38;5;28;01mreturn\u001b[39;00m \u001b[43mio_open\u001b[49m\u001b[43m(\u001b[49m\u001b[43mfile\u001b[49m\u001b[43m,\u001b[49m\u001b[43m \u001b[49m\u001b[38;5;241;43m*\u001b[39;49m\u001b[43margs\u001b[49m\u001b[43m,\u001b[49m\u001b[43m \u001b[49m\u001b[38;5;241;43m*\u001b[39;49m\u001b[38;5;241;43m*\u001b[39;49m\u001b[43mkwargs\u001b[49m\u001b[43m)\u001b[49m\n",
      "\u001b[0;31mFileNotFoundError\u001b[0m: [Errno 2] No such file or directory: 'comp-lab-class/#2JOF_newbox.gro.1#'"
     ]
    }
   ],
   "source": [
    "def read_data(file_path):\n",
    "    # Read the file, assuming that the header starts after lines that begin with '@'\n",
    "    with open(file_path, 'r') as file:\n",
    "        lines = file.readlines()\n",
    "    \n",
    "    # Identify the line where data starts (typically after '@' lines)\n",
    "    start_index = 0\n",
    "    for i, line in enumerate(lines):\n",
    "        if not line.startswith(('@', '#')):\n",
    "            start_index = i\n",
    "            break\n",
    "    \n",
    "    # Load the data into a DataFrame\n",
    "    data = pd.read_csv(file_path, delim_whitespace=True, skiprows=start_index)\n",
    "    \n",
    "    return data\n",
    "\n",
    "# Load the data\n",
    "data = read_data(file_path)\n",
    "\n",
    "# Display the first few rows to understand its structure\n",
    "data.head()\n",
    "\n",
    "# Define the time in nanoseconds (assuming the time column is the first column)\n",
    "time_ns = data.iloc[:, 0] / 1000.0  # Assuming time is in picoseconds and we convert to nanoseconds\n",
    "\n",
    "# Plot each quantity vs. time\n",
    "quantities = data.columns[1:]  # Skip the time column\n",
    "\n",
    "# Plot each quantity\n",
    "fig, axes = plt.subplots(nrows=3, ncols=2, figsize=(15, 10))\n",
    "axes = axes.flatten()"
   ]
  },
  {
   "cell_type": "code",
   "execution_count": null,
   "id": "eb72c0d2-0048-4d2e-b213-1c7fa3b3f46a",
   "metadata": {},
   "outputs": [],
   "source": []
  }
 ],
 "metadata": {
  "kernelspec": {
   "display_name": "lab_env_2024",
   "language": "python",
   "name": "lab_env_2024"
  },
  "language_info": {
   "codemirror_mode": {
    "name": "ipython",
    "version": 3
   },
   "file_extension": ".py",
   "mimetype": "text/x-python",
   "name": "python",
   "nbconvert_exporter": "python",
   "pygments_lexer": "ipython3",
   "version": "3.9.12"
  }
 },
 "nbformat": 4,
 "nbformat_minor": 5
}
